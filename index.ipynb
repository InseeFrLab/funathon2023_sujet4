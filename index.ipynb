{
 "cells": [
  {
   "cell_type": "raw",
   "id": "468fffea",
   "metadata": {},
   "source": [
    "---\n",
    "title: \"Mon Yuka 🥕 avec Python 🐍\"\n",
    "eval: false\n",
    "execute:\n",
    "  cache: true\n",
    "  keep-ipynb: true\n",
    "---"
   ]
  },
  {
   "cell_type": "markdown",
   "id": "86c6a1eb",
   "metadata": {},
   "source": [
    "Ce notebook vise à présenter pas à pas comment créer une application interactive\n",
    "avec `Streamlit` reproduisant celle proposée sur [myyuka.lab.sspcloud.fr](https://myyuka.lab.sspcloud.fr/).\n",
    "\n",
    "Cet exercice est proposé dans le cadre du `Funathon` (hackathon non compétitif)\n",
    "organisé en 2023 par l'Insee et le Ministère de l'Agriculture sur le thème _\"Du champ à l'assiette\"_. \n",
    "Les autres sujets sont disponibles\n",
    "sur le [`Github InseeFrLab`](https://github.com/InseeFrLab/funathon2023). \n",
    "\n",
    "# Objectif et approche pédagogique\n",
    "\n",
    "L'objectif de ce projet est d'apprendre à utiliser `Python` pour créer des \n",
    "applications réactives avec `Streamlit` mais aussi de se familiariser à\n",
    "la manipulation de données avec `Python` et, au passage, à quelques bonnes\n",
    "pratiques utiles pour obtenir des projets plus lisibles et reproductibles. \n",
    "\n",
    "\n",
    "Pour parvenir à cet objectif, il est possible d'emprunter plusieurs voies,\n",
    "plus ou moins guidées. Celles-ci sont là pour permettre que ce sujet \n",
    "soit réalisable. Elles sont balisées de la manière suivante:\n",
    "\n",
    "| Balisage | Approche | Prérequis de niveau | Objectif pédagogique |\n",
    "|--------|---------|----------------|-------------------|\n",
    "| 🟡 | Exécuter les cellules permet d'obtenir le résultat attendu | Capacité à installer des _packages_ | Découvrir de nouveaux _packages_ en suivant le fil conducteur du projet, découvrir les scripts `Python`, se familiariser avec `Git`  |\n",
    "| 🟢 | Des instructions détaillées sur la manière de procéder sont proposées | Connaître quelques manipulations avec `Pandas` | Apprendre à utiliser certains _packages_ avec un projet guidé, se familiariser avec les projets `Python` plus conséquents que les _notebooks_ `Jupyter` |\n",
    "| 🔵 | Instructions moins détaillées | Capacité à manipuler des données avec `Pandas` | Apprendre à modulariser du code pour faciliter sa réutilisation dans une application, découvrir la récupation de données via des API |\n",
    "| 🔴 | Peu d'instructions | Expérience en développement de code `Python` | Découvrir la création d'application ou se familiariser avec l'écosystème `DuckDB` |\n",
    "| ⚫ | Autonomie | Bonne maîtrise de `Python` et de la ligne de commande ̀`Linux` | S'initier au déploiement d'une application ou à l'ingénieurie de données |\n",
    "\n",
    "Le parcours vers la mise en oeuvre d'une application fonctionnelle se fait par étapes, en séquençant le projet\n",
    "pour permettre d'avoir un projet lisible, reproductible et modulaire. \n",
    "\n",
    "Les étapes ne sont\n",
    "pas forcément de difficulté graduelle, il s'agit plutôt de séquencer de manière logique le projet\n",
    "pour vous faciliter la prise en main.\n",
    "\n",
    "Il est donc tout à fait possible de passer, selon les parties, d'une voie 🟢 à une voie 🔵 ou bien de tester les codes proposés dans la voie 🟡 d'abord puis, une fois que la logique a été comprise, essayer de les faire soit-même via la voie 🟢 ou encore essayer via la voie 🔵, ne pas y parvenir du fait du caractère plus succinct des instructions et regarder les instructions de la voie 🟢 ou la solution de la voie 🟡.\n",
    "\n",
    "Il est même tout à fait possible de sauter une étape et reprendre à partir de la suivante grâce aux _checkpoints_ proposés. \n",
    "\n",
    "Les consignes sont encapsulées dans des boites dédiées, afin d'être séparées des explications générales. \n",
    "\n",
    "Par exemple, la boite verte prendra l'aspect suivant:\n",
    "\n",
    "::: {.cell .markdown}\n",
    "<!----- boite 🟢 ----->\n",
    "\n",
    "\n",
    "```{=html}"
   ]
  },
  {
   "cell_type": "code",
   "execution_count": 1,
   "id": "088a0b45",
   "metadata": {},
   "outputs": [
    {
     "name": "stdout",
     "output_type": "stream",
     "text": [
      "<div class=\"alert alert-warning\" role=\"alert\" style=\"color: rgba(0,0,0,.8); background-color: white; margin-top: 1em; margin-bottom: 1em; margin:1.5625emauto; padding:0 .6rem .8rem!important;overflow:hidden; page-break-inside:avoid; border-radius:.25rem; box-shadow:0 .2rem .5rem rgba(0,0,0,.05),0 0 .05rem rgba(0,0,0,.1); transition:color .25s,background-color .25s,border-color .25s ; border-right: 1px solid #dee2e6 ; border-top: 1px solid #dee2e6 ; border-bottom: 1px solid #dee2e6 ; border-left:.2rem solid #7cb342;\">\n",
      "<h3 class=\"alert-heading\"><i class=\"fa fa-pencil\"></i> Exemple (🟢)</h3>\n"
     ]
    }
   ],
   "source": [
    "#| echo: false\n",
    "#| output: asis\n",
    "#| eval: true\n",
    "from utils_notebook import create_box_level\n",
    "create_box_level(color = \"🟢\", title = \"Exemple (🟢)\")"
   ]
  },
  {
   "cell_type": "markdown",
   "id": "4a4c7465",
   "metadata": {},
   "source": [
    "<details>\n",
    "<summary>Dérouler pour révéler les instructions</summary>\n",
    "```\n",
    "\n",
    "Utiliser la fonction `print` pour afficher le texte _\"Toto\"_\n",
    "\n",
    "```{=html}\n",
    "</details>\n",
    "</div>\n",
    "```\n",
    "\n",
    "<!----- end 🟢 ----->\n",
    ":::\n",
    "\n",
    "\n",
    "\n",
    "alors que sur le même exercice, si plusieurs voies peuvent emprunter le même chemin, on \n",
    "utilisera une délimitation grise :\n",
    "\n",
    "::: {.cell .markdown}\n",
    "<!----- boite 🔵 ----->\n",
    "\n",
    "\n",
    "```{=html}"
   ]
  },
  {
   "cell_type": "code",
   "execution_count": 2,
   "id": "a942f545",
   "metadata": {},
   "outputs": [
    {
     "name": "stdout",
     "output_type": "stream",
     "text": [
      "<div class=\"alert alert-warning\" role=\"alert\" style=\"color: rgba(0,0,0,.8); background-color: white; margin-top: 1em; margin-bottom: 1em; margin:1.5625emauto; padding:0 .6rem .8rem!important;overflow:hidden; page-break-inside:avoid; border-radius:.25rem; box-shadow:0 .2rem .5rem rgba(0,0,0,.05),0 0 .05rem rgba(0,0,0,.1); transition:color .25s,background-color .25s,border-color .25s ; border-right: 1px solid #dee2e6 ; border-top: 1px solid #dee2e6 ; border-bottom: 1px solid #dee2e6 ; border-left:.2rem solid #9c9797;\">\n",
      "<h3 class=\"alert-heading\"><i class=\"fa fa-pencil\"></i> Exemple (🔵,🔴,⚫)</h3>\n"
     ]
    }
   ],
   "source": [
    "#| echo: false\n",
    "#| output: asis\n",
    "#| eval: true\n",
    "from utils_notebook import create_box_level\n",
    "create_box_level(color = \"grey\", title = \"Exemple (🔵,🔴,⚫)\")"
   ]
  },
  {
   "cell_type": "markdown",
   "id": "63e7f5a9",
   "metadata": {},
   "source": [
    "<details>\n",
    "<summary>Dérouler pour révéler les instructions</summary>\n",
    "```\n",
    "\n",
    "Afficher le texte _\"Toto\"_\n",
    "\n",
    "```{=html}\n",
    "</details>\n",
    "</div>\n",
    "```\n",
    "\n",
    "<!----- end 🔵 ----->\n",
    ":::\n",
    "\n",
    "\n",
    "La solution associée, visible pour les personnes sur la voie 🟡, sera:\n"
   ]
  },
  {
   "cell_type": "code",
   "execution_count": 3,
   "id": "df6d66e8",
   "metadata": {},
   "outputs": [],
   "source": [
    "# Solution pour voie 🟡\n",
    "print(\"toto\")"
   ]
  },
  {
   "cell_type": "markdown",
   "id": "73ff6494",
   "metadata": {},
   "source": [
    "## Etapes du projet\n",
    "\n",
    "Le projet est séquencé de la manière suivante: \n",
    "\n",
    "| Etape | Objectif |\n",
    "|--------|---------|\n",
    "| Récupération et nettoyage de la base `OpenFoodFacts` | Lire des données avec `Pandas` depuis un site web (🟡,🟢,🔵,🔴,⚫), appliquer des nettoyages de champs textuels (🟡,🟢,🔵,🔴,⚫), catégoriser ces données avec un classifieur automatique (🟡,🟢,🔵,🔴,⚫) voire entrainer un classifieur _ad hoc_ (🔴,⚫), écrire ces données sur un système de stockage distant (🟡,🟢,🔵,🔴,⚫) |\n",
    "| Faire des statistiques agrégées par catégories | Utiliser `Pandas` (🟡,🟢,🔵) ou ̀`DuckDB` (🔴,⚫) pour faire des statistiques par groupe |\n",
    "| Trouver un produit dans `OpenFoodFacts` à partir d'un code barre | Détection visuelle d'un code barre (🟡,🟢,🔵, 🔴,⚫), rechercher des données avec des critères d'appariement exact comme le code barre via `Pandas` (🟡,🟢,🔵) ou ̀`DuckDB` (🔴,⚫)  ou via des distances textuelles (🔴,⚫)|\n",
    "| Encapsuler ces étapes dans une application `Streamlit` | Tester une application `Streamlit` minimale (🟡,🟢,🔵, 🔴,⚫), personnaliser celle-ci (🔴,⚫ ou 🟡,🟢,🔵 désirant se focaliser sur `Streamlit`) |\n",
    "| Mettre en production cette application | Déployer grâce à des serveurs standardisés une application `Streamlit` (🔴,⚫) ou proposer une version sans serveur (⚫ voulant se familiariser à `Observable`) |\n",
    "\n",
    "\n",
    "Le développement à proprement parler de l'application est donc assez tardif car un certain nombre d'étapes préalables sont nécessaires pour ne pas avoir une application monolithique (ce qui est une bonne pratique). Si vous n'êtes intéressés que par développer une application `Streamlit`, vous pouvez directement passer aux étapes concernées (à partir de la partie 3️). \n",
    "\n",
    "La première étape (1️⃣ _Récupération et nettoyage de la base `OpenFoodFacts`_) peut être assez chronophage. Cela est assez représentatif des projets de _data science_ où la majorité du temps est consacrée\n",
    "à la structuration et la manipulation de données. La deuxième étape (2️ _\"Faire des statistiques agrégées par catégories\"_) est la moins centrale de ce sujet: si vous manquez de temps vous pouvez la passer\n",
    "et utiliser directement les morceaux de code mis à disposition. \n",
    "\n",
    "\n",
    "## Remarques\n",
    "\n",
    "Cette page peut être consultée par différents canaux:\n",
    "\n",
    "- Sur un site web, les codes\n",
    "faisant office de solution sont, par défauts, cachés. Cela peut être pratique\n",
    "de consulter cette page si vous êtes sur un parcours de couleur différente que le \n",
    "jaune et ne voulez pas voir la solution sans le vouloir ;\n",
    "- Sur un notebook `Jupyter`, les solutions de la voie 🟡 sont affichées par défaut.\n",
    "Elles peuvent être cachées en faisant `View` > `Collapse All Code`\n",
    "\n",
    "## Sources et packages utilisés\n",
    "\n",
    "Notre source de référence sera [`OpenFoodFacts`](https://fr.openfoodfacts.org/), une \n",
    "base contributive sur les produits alimentaires. \n",
    "\n",
    "\n",
    "::: {.cell .markdown}\n",
    "\n",
    "```{=html}\n",
    "<div class=\"alert alert-warning\" role=\"alert\" style=\"color: rgba(0,0,0,.8); background-color: white; margin-top: 1em; margin-bottom: 1em; margin:1.5625emauto; padding:0 .6rem .8rem!important;overflow:hidden; page-break-inside:avoid; border-radius:.25rem; box-shadow:0 .2rem .5rem rgba(0,0,0,.05),0 0 .05rem rgba(0,0,0,.1); transition:color .25s,background-color .25s,border-color .25s ; border-right: 1px solid #dee2e6 ; border-top: 1px solid #dee2e6 ; border-bottom: 1px solid #dee2e6 ; border-left:.2rem solid #ffc10780;\">\n",
    "<h3 class=\"alert-heading\"><i class=\"fa fa-lightbulb-o\"></i> Hint</h3>\n",
    "```\n",
    "\n",
    "Nous utiliserons également un classifieur automatique issu du projet [`predicat`](https://github.com/InseeFrLab/predicat).\n",
    "Il s'agit d'un modèle qui utilise des noms de produits pour leur associer des catégories de la\n",
    "nomenclature [COICOP (Classification des fonctions de consommation des ménages)](https://www.insee.fr/fr/information/2408172).\n",
    "\n",
    "Ce modèle est là à des fins de démonstration du principe de la classification automatique et de la manière dont celle-ci\n",
    "peut être intégrée à un processus de production de données. Il ne s'agit pas d'un modèle\n",
    "officiel de l'Insee. \n",
    "\n",
    "\n",
    "```{=html}\n",
    "</div>\n",
    "```\n",
    "\n",
    "\n",
    ":::\n",
    "\n",
    "\n",
    "\n",
    "# 1️⃣ Récupération des données `OpenFoodFacts`\n",
    "\n",
    "## 1.1. Préliminaire (🟡,🟢,🔵,🔴,⚫)\n",
    "\n",
    "Comme nous allons utiliser fréquemment certains paramètres,\n",
    "une bonne pratique consiste à les stocker dans un fichier\n",
    "dédié, au format `YAML` et d'importer celui-ci via\n",
    "`Python`. Ceci est expliqué dans [ce cours de l'ENSAE](https://ensae-reproductibilite.github.io/website/chapters/application.html#etape-3-gestion-des-param%C3%A8tres)\n",
    "\n",
    "Nous proposons de créer le fichier suivant au nom `config.yaml`:\n",
    "\n",
    "```yaml\n",
    "URL_OPENFOOD: \"https://static.openfoodfacts.org/data/en.openfoodfacts.org.products.csv.gz\"\n",
    "ENDPOINT_S3: \"https://minio.lab.sspcloud.fr\"\n",
    "BUCKET: \"projet-funathon\"\n",
    "DESTINATION_DATA_S3: \"/2023/sujet4/diffusion\"\n",
    "URL_FASTTEXT_MINIO: \"https://minio.lab.sspcloud.fr/projet-funathon/2023/sujet4/diffusion/model_coicop10.bin\"\n",
    "URL_COICOP_LABEL: \"https://www.insee.fr/fr/statistiques/fichier/2402696/coicop2016_liste_n5.xls\"\n",
    "```\n",
    "\n",
    "⚠️ Si vous désirez pouvoir reproduire tous les exemples de ce fichier, vous devez\n",
    "changer la variable `BUCKET` pour mettre votre nom d'utilisateur sur le `SSPCloud`.\n",
    "\n",
    "Nous allons lire ce fichier avec le package adapté pour transformer ces\n",
    "instructions en variables `Python` (stockées dans un dictionnaire)!,\n",
    "\n",
    "\n",
    "\n",
    "::: {.cell .markdown}\n",
    "<!----- boite 🟢 ----->\n",
    "\n",
    "```{=html}"
   ]
  },
  {
   "cell_type": "code",
   "execution_count": 4,
   "id": "be8985a4",
   "metadata": {},
   "outputs": [
    {
     "name": "stdout",
     "output_type": "stream",
     "text": [
      "<div class=\"alert alert-warning\" role=\"alert\" style=\"color: rgba(0,0,0,.8); background-color: white; margin-top: 1em; margin-bottom: 1em; margin:1.5625emauto; padding:0 .6rem .8rem!important;overflow:hidden; page-break-inside:avoid; border-radius:.25rem; box-shadow:0 .2rem .5rem rgba(0,0,0,.05),0 0 .05rem rgba(0,0,0,.1); transition:color .25s,background-color .25s,border-color .25s ; border-right: 1px solid #dee2e6 ; border-top: 1px solid #dee2e6 ; border-bottom: 1px solid #dee2e6 ; border-left:.2rem solid #7cb342;\">\n",
      "<h3 class=\"alert-heading\"><i class=\"fa fa-pencil\"></i> Utiliser un fichier YAML (🟢)</h3>\n"
     ]
    }
   ],
   "source": [
    "#| echo: false\n",
    "#| output: asis\n",
    "#| eval: true\n",
    "from utils_notebook import create_box_level\n",
    "create_box_level(color = \"🟢\", title = \"Utiliser un fichier YAML (🟢)\")"
   ]
  },
  {
   "cell_type": "markdown",
   "id": "51e09ac2",
   "metadata": {},
   "source": [
    "<details>\n",
    "<summary>Dérouler pour révéler les instructions</summary>\n",
    "```\n",
    "\n",
    "A partir des exemples présents dans [cette page](https://stackoverflow.com/questions/1773805/how-can-i-parse-a-yaml-file-in-python),\n",
    "importer les variables dans un objet `Python` nommé `config`\n",
    "\n",
    "```{=html}\n",
    "</details>\n",
    "</div>\n",
    "```\n",
    "\n",
    "<!----- end 🟢 ----->\n",
    ":::\n",
    "\n",
    "::: {.cell .markdown}\n",
    "<!----- boite 🔵 ----->\n",
    "\n",
    "```{=html}"
   ]
  },
  {
   "cell_type": "code",
   "execution_count": 5,
   "id": "9f5ff771",
   "metadata": {},
   "outputs": [
    {
     "name": "stdout",
     "output_type": "stream",
     "text": [
      "<div class=\"alert alert-warning\" role=\"alert\" style=\"color: rgba(0,0,0,.8); background-color: white; margin-top: 1em; margin-bottom: 1em; margin:1.5625emauto; padding:0 .6rem .8rem!important;overflow:hidden; page-break-inside:avoid; border-radius:.25rem; box-shadow:0 .2rem .5rem rgba(0,0,0,.05),0 0 .05rem rgba(0,0,0,.1); transition:color .25s,background-color .25s,border-color .25s ; border-right: 1px solid #dee2e6 ; border-top: 1px solid #dee2e6 ; border-bottom: 1px solid #dee2e6 ; border-left:.2rem solid #1976d2;\">\n",
      "<h3 class=\"alert-heading\"><i class=\"fa fa-pencil\"></i> Utiliser un fichier YAML (🔵)</h3>\n"
     ]
    }
   ],
   "source": [
    "#| echo: false\n",
    "#| output: asis\n",
    "#| eval: true\n",
    "from utils_notebook import create_box_level\n",
    "create_box_level(color = \"🔵\", title = \"Utiliser un fichier YAML (🔵)\")"
   ]
  },
  {
   "cell_type": "markdown",
   "id": "b84497bd",
   "metadata": {},
   "source": [
    "<details>\n",
    "<summary>Dérouler pour révéler les instructions</summary>\n",
    "```\n",
    "\n",
    "Utiliser le package `PyYAML` pour importer les éléments présents dans `config.yaml` dans un objet `Python` nommé `config`\n",
    "\n",
    "```{=html}\n",
    "</details>\n",
    "</div>\n",
    "```\n",
    "\n",
    "<!----- end 🔵 ----->\n",
    ":::\n",
    "\n",
    "::: {.cell .markdown}\n",
    "<!----- boite 🔴,⚫ ----->\n",
    "\n",
    "```{=html}"
   ]
  },
  {
   "cell_type": "code",
   "execution_count": 6,
   "id": "c1389392",
   "metadata": {},
   "outputs": [
    {
     "name": "stdout",
     "output_type": "stream",
     "text": [
      "<div class=\"alert alert-warning\" role=\"alert\" style=\"color: rgba(0,0,0,.8); background-color: white; margin-top: 1em; margin-bottom: 1em; margin:1.5625emauto; padding:0 .6rem .8rem!important;overflow:hidden; page-break-inside:avoid; border-radius:.25rem; box-shadow:0 .2rem .5rem rgba(0,0,0,.05),0 0 .05rem rgba(0,0,0,.1); transition:color .25s,background-color .25s,border-color .25s ; border-right: 1px solid #dee2e6 ; border-top: 1px solid #dee2e6 ; border-bottom: 1px solid #dee2e6 ; border-left:.2rem solid #f44336;\">\n",
      "<h3 class=\"alert-heading\"><i class=\"fa fa-pencil\"></i> Utiliser un fichier YAML (🔴,⚫)</h3>\n"
     ]
    }
   ],
   "source": [
    "#| echo: false\n",
    "#| output: asis\n",
    "#| eval: true\n",
    "from utils_notebook import create_box_level\n",
    "create_box_level(color = \"🔴\", title = \"Utiliser un fichier YAML (🔴,⚫)\")"
   ]
  },
  {
   "cell_type": "markdown",
   "id": "6ec16049",
   "metadata": {},
   "source": [
    "<details>\n",
    "<summary>Dérouler pour révéler les instructions</summary>\n",
    "```\n",
    "\n",
    "Importer les éléments présents dans `config.yaml` dans un objet `Python` nommé `config`\n",
    "\n",
    "```{=html}\n",
    "</details>\n",
    "</div>\n",
    "```\n",
    "\n",
    "<!----- end 🔵 ----->\n",
    ":::\n"
   ]
  },
  {
   "cell_type": "code",
   "execution_count": 7,
   "id": "f26559c1",
   "metadata": {},
   "outputs": [],
   "source": [
    "#| classes: yellow-code\n",
    "\n",
    "# Solution pour voie 🟡\n",
    "import yaml\n",
    "\n",
    "def import_yaml(filename: str) -> dict:\n",
    "    \"\"\"\n",
    "    Importer un fichier YAML\n",
    "\n",
    "    Args:\n",
    "        filename (str): Emplacement du fichier\n",
    "\n",
    "    Returns:\n",
    "        dict: Le fichier YAML sous forme de dictionnaire Python\n",
    "    \"\"\"\n",
    "    with open(filename, \"r\", encoding=\"utf-8\") as stream:\n",
    "        config = yaml.safe_load(stream)\n",
    "        return config\n",
    "\n",
    "import_yaml(\"config.yaml\")"
   ]
  },
  {
   "cell_type": "markdown",
   "id": "5c54cd57",
   "metadata": {},
   "source": [
    "Il est recommandé pour la suite de\n",
    "copier-coller la fonction créée (ne pas oublier les imports associés) \n",
    "dans un fichier à l'emplacement `utils/import_yaml.py`. Cette approche modulaire est\n",
    "une bonne\n",
    "pratique, recommandée\n",
    "dans [ce cours de l'ENSAE](https://ensae-reproductibilite.github.io/website/).\n",
    "\n",
    "Pour la voie 🟡, ce fichier a déjà été créé pour vous. \n",
    "Le tester de la manière suivante:"
   ]
  },
  {
   "cell_type": "code",
   "execution_count": 8,
   "id": "670b6ab7",
   "metadata": {},
   "outputs": [],
   "source": [
    "#| classes: yellow-code\n",
    "\n",
    "# Solution pour voie 🟡\n",
    "from utils.import_yaml import import_yaml\n",
    "config = import_yaml(\"config.yaml\")"
   ]
  },
  {
   "cell_type": "markdown",
   "id": "4ba9117d",
   "metadata": {},
   "source": [
    "## 1.2. Télécharger et nettoyer la base `OpenFoodFacts` (🟡,🟢,🔵,🔴,⚫)\n",
    "\n",
    "Un export quotidien de la\n",
    "base de données `OpenFoodFacts` est fourni au format `CSV`. L'URL est le suivant:"
   ]
  },
  {
   "cell_type": "code",
   "execution_count": 9,
   "id": "7684c47f",
   "metadata": {},
   "outputs": [],
   "source": [
    "config[\"URL_OPENFOOD\"]"
   ]
  },
  {
   "cell_type": "markdown",
   "id": "89c39f1e",
   "metadata": {},
   "source": [
    "Il est possible d'importer de plusieurs manières ce type de fichier avec `Python`. \n",
    "Ce qu'on propose ici, \n",
    "c'est de le faire en deux temps, afin d'avoir un contrôle des \n",
    "options mises en oeuvre lors de l'import (notamment le format de certaines variables) :\n",
    "\n",
    "- Utiliser `requests` pour télécharger le fichier et l'écrire, de manière intermédiaire, \n",
    "sur le disque local ;\n",
    "- Utiliser `pandas` avec quelques options pour importer le fichier puis le manipuler. \n",
    "\n",
    "\n",
    "::: {.cell .markdown}\n",
    "<!----- boite 🟢 ----->\n",
    "\n",
    "```{=html}"
   ]
  },
  {
   "cell_type": "code",
   "execution_count": 10,
   "id": "93f25533",
   "metadata": {},
   "outputs": [
    {
     "name": "stdout",
     "output_type": "stream",
     "text": [
      "<div class=\"alert alert-warning\" role=\"alert\" style=\"color: rgba(0,0,0,.8); background-color: white; margin-top: 1em; margin-bottom: 1em; margin:1.5625emauto; padding:0 .6rem .8rem!important;overflow:hidden; page-break-inside:avoid; border-radius:.25rem; box-shadow:0 .2rem .5rem rgba(0,0,0,.05),0 0 .05rem rgba(0,0,0,.1); transition:color .25s,background-color .25s,border-color .25s ; border-right: 1px solid #dee2e6 ; border-top: 1px solid #dee2e6 ; border-bottom: 1px solid #dee2e6 ; border-left:.2rem solid #7cb342;\">\n",
      "<h3 class=\"alert-heading\"><i class=\"fa fa-pencil\"></i> Télécharger et importer OpenFoodFacts (🟢)</h3>\n"
     ]
    }
   ],
   "source": [
    "#| echo: false\n",
    "#| output: asis\n",
    "#| eval: true\n",
    "from utils_notebook import create_box_level\n",
    "create_box_level(color = \"🟢\", title = \"Télécharger et importer OpenFoodFacts (🟢)\")"
   ]
  },
  {
   "cell_type": "markdown",
   "id": "e2101307",
   "metadata": {},
   "source": [
    "<details>\n",
    "<summary>Dérouler pour révéler les instructions</summary>\n",
    "```\n",
    "\n",
    "1. Utiliser la fonction `requests.get` pour télécharger le fichier.\n",
    "Vous pouvez vous inspirer de réponses [ici](https://stackoverflow.com/questions/16694907/download-large-file-in-python-with-requests)\n",
    "\n",
    "\n",
    "2. Utiliser `pd.read_csv` avec les options suivantes:\n",
    "        + Le fichier utilise `\\t` comme tabulation\n",
    "        + Utiliser l'argument `parse_dates=[\"created_datetime\", \"last_modified_datetime\", \"last_image_datetime\"]`\n",
    "        + Il est nécessaire de figer quelques types avec l'argument `dtype`. Voici le dictionnaire à passer\n",
    "        \n",
    "```python\n",
    "{\n",
    "    \"code \": \"str\",\n",
    "    \"emb_codes\": \"str\",\n",
    "    \"emb_codes_tags\": \"str\",\n",
    "    \"energy_100g\": \"float\",\n",
    "    \"alcohol_100g\": \"float\",\n",
    "}\n",
    "```\n",
    "\n",
    "3. Forcer la colonne `code` à être de type _string_ avec la méthode `.astype(str)`\n",
    "\n",
    "```{=html}\n",
    "</details>\n",
    "</div>\n",
    "```\n",
    "\n",
    "<!----- end 🟢 ----->\n",
    ":::\n",
    "\n",
    "::: {.cell .markdown}\n",
    "<!----- boite 🔵 ----->\n",
    "\n",
    "```{=html}"
   ]
  },
  {
   "cell_type": "code",
   "execution_count": 11,
   "id": "094aa517",
   "metadata": {},
   "outputs": [
    {
     "name": "stdout",
     "output_type": "stream",
     "text": [
      "<div class=\"alert alert-warning\" role=\"alert\" style=\"color: rgba(0,0,0,.8); background-color: white; margin-top: 1em; margin-bottom: 1em; margin:1.5625emauto; padding:0 .6rem .8rem!important;overflow:hidden; page-break-inside:avoid; border-radius:.25rem; box-shadow:0 .2rem .5rem rgba(0,0,0,.05),0 0 .05rem rgba(0,0,0,.1); transition:color .25s,background-color .25s,border-color .25s ; border-right: 1px solid #dee2e6 ; border-top: 1px solid #dee2e6 ; border-bottom: 1px solid #dee2e6 ; border-left:.2rem solid #1976d2;\">\n",
      "<h3 class=\"alert-heading\"><i class=\"fa fa-pencil\"></i> Télécharger et importer OpenFoodFacts (🔵)</h3>\n"
     ]
    }
   ],
   "source": [
    "#| echo: false\n",
    "#| output: asis\n",
    "#| eval: true\n",
    "from utils_notebook import create_box_level\n",
    "create_box_level(color = \"🔵\", title = \"Télécharger et importer OpenFoodFacts (🔵)\")"
   ]
  },
  {
   "cell_type": "markdown",
   "id": "71c360c8",
   "metadata": {},
   "source": [
    "<details>\n",
    "<summary>Dérouler pour révéler les instructions</summary>\n",
    "```\n",
    "\n",
    "1. Utiliser le _package_ `requests` pour télécharger le fichier. Si vous voulez afficher une barre de progression,\n",
    "vous pouvez vous inspirer de la fonction `download_pb` du package [`cartiflette`](https://github.com/InseeFrLab/cartiflette)\n",
    "\n",
    "2. Lire les données avec `pandas` avec les options suivantes:\n",
    "        + Le fichier utilise `\\t` comme tabulation\n",
    "        + Utiliser l'argument `parse_dates = [\"created_datetime\", \"last_modified_datetime\", \"last_image_datetime\"]`\n",
    "        + Il est nécessaire de figer, voici le dictionnaire à passer\n",
    "        \n",
    "```python\n",
    "{\n",
    "    \"code \": \"str\",\n",
    "    \"emb_codes\": \"str\",\n",
    "    \"emb_codes_tags\": \"str\",\n",
    "    \"energy_100g\": \"float\",\n",
    "    \"alcohol_100g\": \"float\",\n",
    "}\n",
    "```\n",
    "\n",
    "3. Forcer la colonne `code` à être de type _string_\n",
    "\n",
    "```{=html}\n",
    "</details>\n",
    "</div>\n",
    "```\n",
    "\n",
    "<!----- end 🔵 ----->\n",
    ":::\n",
    "\n",
    "::: {.cell .markdown}\n",
    "<!----- boite 🔴,⚫ ----->\n",
    "\n",
    "```{=html}"
   ]
  },
  {
   "cell_type": "code",
   "execution_count": 12,
   "id": "8161f435",
   "metadata": {},
   "outputs": [
    {
     "name": "stdout",
     "output_type": "stream",
     "text": [
      "<div class=\"alert alert-warning\" role=\"alert\" style=\"color: rgba(0,0,0,.8); background-color: white; margin-top: 1em; margin-bottom: 1em; margin:1.5625emauto; padding:0 .6rem .8rem!important;overflow:hidden; page-break-inside:avoid; border-radius:.25rem; box-shadow:0 .2rem .5rem rgba(0,0,0,.05),0 0 .05rem rgba(0,0,0,.1); transition:color .25s,background-color .25s,border-color .25s ; border-right: 1px solid #dee2e6 ; border-top: 1px solid #dee2e6 ; border-bottom: 1px solid #dee2e6 ; border-left:.2rem solid #9c9797;\">\n",
      "<h3 class=\"alert-heading\"><i class=\"fa fa-pencil\"></i> Télécharger et importer OpenFoodFacts (🔴,⚫)</h3>\n"
     ]
    }
   ],
   "source": [
    "#| echo: false\n",
    "#| output: asis\n",
    "#| eval: true\n",
    "from utils_notebook import create_box_level\n",
    "create_box_level(color = \"grey\", title = \"Télécharger et importer OpenFoodFacts (🔴,⚫)\")"
   ]
  },
  {
   "cell_type": "markdown",
   "id": "2aed0084",
   "metadata": {},
   "source": [
    "<details>\n",
    "<summary>Dérouler pour révéler les instructions</summary>\n",
    "```\n",
    "\n",
    "1. Télécharger le fichier avec `Python`. Pour s'assurer de la progression du téléchargement, \n",
    "utiliser également la librairie `tqdm`.\n",
    "\n",
    "2. Lire les données avec `pandas` avec les options suivantes:\n",
    "        + Le fichier utilise `\\t` comme tabulation\n",
    "        + Utiliser l'argument `parse_dates = [\"created_datetime\", \"last_modified_datetime\", \"last_image_datetime\"]`\n",
    "        + Il est nécessaire de figer, voici le dictionnaire à passer\n",
    "        \n",
    "```python\n",
    "{\n",
    "    \"code \": \"str\",\n",
    "    \"emb_codes\": \"str\",\n",
    "    \"emb_codes_tags\": \"str\",\n",
    "    \"energy_100g\": \"float\",\n",
    "    \"alcohol_100g\": \"float\",\n",
    "}\n",
    "```\n",
    "\n",
    "3. Forcer la colonne `code` à être de type _string_\n",
    "\n",
    "```{=html}\n",
    "</details>\n",
    "</div>\n",
    "```\n",
    "\n",
    "<!----- end 🔴,⚫ ----->\n",
    ":::"
   ]
  },
  {
   "cell_type": "code",
   "execution_count": 13,
   "id": "import-openfood-solution",
   "metadata": {},
   "outputs": [],
   "source": [
    "#| classes: yellow-code\n",
    "#| label: import-openfood-solution\n",
    "#| eval: false\n",
    "\n",
    "# Solution pour voie 🟡\n",
    "from utils.preprocess_openfood import download_openfood, import_openfood\n",
    "download_openfood(destination = \"openfood.csv.gz\")\n",
    "openfood = import_openfood(\"openfood.csv.gz\")\n",
    "openfood.loc[:, ['code', 'product_name', 'energy-kcal_100g', 'nutriscore_grade']].sample(5, random_state = 12345)"
   ]
  },
  {
   "cell_type": "code",
   "execution_count": 14,
   "id": "import-openfood",
   "metadata": {
    "cache": true
   },
   "outputs": [],
   "source": [
    "#| label: import-openfood\n",
    "#| echo: false\n",
    "#| output: false\n",
    "import os\n",
    "import pandas as pd\n",
    "\n",
    "from utils.preprocess_openfood import download_openfood, import_openfood\n",
    "download_openfood(destination = \"openfood.csv.gz\")\n",
    "if os.path.exists(\"openfood.parquet\"):\n",
    "    openfood = pd.read_parquet(\"openfood.parquet\")\n",
    "else:\n",
    "    openfood = import_openfood(\"openfood.csv.gz\")\n",
    "    openfood.to_parquet(\"openfood.parquet\")"
   ]
  },
  {
   "cell_type": "markdown",
   "id": "1690475a",
   "metadata": {},
   "source": [
    "L'objectif de l'application est de proposer pour un produit donné quelques\n",
    "statistiques descriptives. On propose de se focaliser sur trois \n",
    "scores :\n",
    "\n",
    "- Le [__nutriscore__](https://www.santepubliquefrance.fr/determinants-de-sante/nutrition-et-activite-physique/articles/nutri-score) ;\n",
    "- Le [__score Nova__](https://fr.openfoodfacts.org/nova) indiquant le degré de transformation d'un produit ;\n",
    "- L'[__écoscore__](https://docs.score-environnemental.com/), une mesure de l'empreinte carbone d'un produit ;\n",
    "\n",
    "Ces scores ne sont pas systématiquement disponibles sur `OpenFoodFacts`\n",
    "mais une part croissante des données présente ces informations (directement\n",
    "renseignées ou imputées). "
   ]
  },
  {
   "cell_type": "code",
   "execution_count": 15,
   "id": "585395c6",
   "metadata": {},
   "outputs": [],
   "source": [
    "indices_synthetiques = ['nutriscore_grade', 'nova_group', 'ecoscore_grade']"
   ]
  },
  {
   "cell_type": "markdown",
   "id": "ed60eb39",
   "metadata": {},
   "source": [
    "Le bloc de code ci-dessous propose d'harmoniser le format de ces scores\n",
    "pour faciliter la représentation graphique ultérieure.\n",
    "\n",
    "Comme il ne s'agit\n",
    "pas du coeur du sujet, il est donné directement à tous les parcours. \n",
    "Le code source de cette fonction est disponible dans\n",
    "le module `utils.pipeline`:"
   ]
  },
  {
   "cell_type": "code",
   "execution_count": 16,
   "id": "3cf41b85",
   "metadata": {},
   "outputs": [],
   "source": [
    "import pandas as pd\n",
    "from utils.pipeline import clean_note\n",
    "\n",
    "indices_synthetiques = ['nutriscore_grade', 'nova_group', 'ecoscore_grade']\n",
    "\n",
    "openfood.loc[:, indices_synthetiques] = pd.concat(\n",
    "        [clean_note(openfood, s, \"wide\") for s in indices_synthetiques],\n",
    "        axis = 1\n",
    "    )"
   ]
  },
  {
   "cell_type": "markdown",
   "id": "5ddbe89b",
   "metadata": {},
   "source": [
    "## 1.3. Classification automatique dans une nomenclature de produits  (🟡,🟢,🔵,🔴,⚫)\n",
    "\n",
    "Pour proposer sur notre application quelques statistiques pertinentes sur\n",
    "le produit, nous allons associer chaque ligne d'`OpenFoodFacts` \n",
    "à un type de produit dans la `COICOP` pour pouvoir comparer un produit\n",
    "à des produits similaires. \n",
    "\n",
    "Nous allons ainsi utiliser le nom du produit pour inférer le type de bien\n",
    "dont il s'agit.\n",
    "\n",
    "Pour cela, dans les parcours 🟡,🟢 et 🔵, \n",
    "nous allons d'utiliser un classifieur expérimental\n",
    "proposé sur [`Github InseeFrLab/predicat`](https://github.com/InseeFrLab/predicat)\n",
    "qui a été entrainé sur cette tâche sur un grand volume de\n",
    "données (non spécifiquement alimentaires). \n",
    "\n",
    "Pour les parcours 🔴 et ⚫, nous proposons également d'utiliser ce classifieur. \n",
    "Néanmoins, une voie bis est possible pour\n",
    "entraîner soi-même un classifieur en utilisant la catégorisation des données\n",
    "disponible directement dans `OpenFoodFacts`. Il est proposé d'utiliser `Fasttext`\n",
    "(une librairie spécialisée open-source, développée par `Meta` il y a quelques années) dans\n",
    "le cadre de la voie 🔴. Les personnes suivant la voie ⚫ sont libres d'utiliser\n",
    "n'importe quel _framework_ de classification, par exemple un modèle disponible\n",
    "sur [HuggingFace](https://huggingface.co/). \n",
    "\n",
    "\n",
    "::: {.cell .markdown}\n",
    "<!----- boite 🟢 ----->\n",
    "\n",
    "```{=html}"
   ]
  },
  {
   "cell_type": "code",
   "execution_count": 17,
   "id": "5595014d",
   "metadata": {},
   "outputs": [
    {
     "name": "stdout",
     "output_type": "stream",
     "text": [
      "<div class=\"alert alert-warning\" role=\"alert\" style=\"color: rgba(0,0,0,.8); background-color: white; margin-top: 1em; margin-bottom: 1em; margin:1.5625emauto; padding:0 .6rem .8rem!important;overflow:hidden; page-break-inside:avoid; border-radius:.25rem; box-shadow:0 .2rem .5rem rgba(0,0,0,.05),0 0 .05rem rgba(0,0,0,.1); transition:color .25s,background-color .25s,border-color .25s ; border-right: 1px solid #dee2e6 ; border-top: 1px solid #dee2e6 ; border-bottom: 1px solid #dee2e6 ; border-left:.2rem solid #7cb342;\">\n",
      "<h3 class=\"alert-heading\"><i class=\"fa fa-pencil\"></i> Nettoyer les données textuelles (🟢)</h3>\n"
     ]
    }
   ],
   "source": [
    "#| echo: false\n",
    "#| output: asis\n",
    "#| eval: true\n",
    "from utils_notebook import create_box_level\n",
    "create_box_level(color = \"🟢\", title = \"Nettoyer les données textuelles (🟢)\")"
   ]
  },
  {
   "cell_type": "markdown",
   "id": "16e6cd1f",
   "metadata": {},
   "source": [
    "<details>\n",
    "<summary>Dérouler pour révéler les instructions</summary>\n",
    "```\n",
    "\n",
    "1. Récupérer le dictionnaire de règles dans [ce fichier](https://raw.githubusercontent.com/InseeFrLab/predicat/master/app/utils_ddc.py)\n",
    "2. Créer une colonne `preprocessed_labels` en appliquant la méthode `str.upper` à la colonne `product_name` afin de la mettre en majuscule\n",
    "3. Modifier le `DataFrame` avec la syntaxe prenant la forme `data.replace({variable: dict_rules_replacement}, regex=True)`\n",
    "4. Observer les cas où il y a eu des changements, par exemple de la manière suivante\n",
    "\n",
    "```python\n",
    "(openfood\n",
    "    .dropna(subset = [\"product_name\", \"preprocessed_labels\"])\n",
    "    .loc[\n",
    "        openfood[\"product_name\"].str.upper() != openfood[\"preprocessed_labels\"],\n",
    "        [\"product_name\", \"preprocessed_labels\"]\n",
    "    ]\n",
    ")\n",
    "```\n",
    "\n",
    "```{=html}\n",
    "</details>\n",
    "</div>\n",
    "```\n",
    "\n",
    "<!----- end 🟢 ----->\n",
    ":::\n",
    "\n",
    "\n",
    "::: {.cell .markdown}\n",
    "<!----- boite 🔵 ----->\n",
    "\n",
    "```{=html}"
   ]
  },
  {
   "cell_type": "code",
   "execution_count": 18,
   "id": "ee64d64e",
   "metadata": {},
   "outputs": [
    {
     "name": "stdout",
     "output_type": "stream",
     "text": [
      "<div class=\"alert alert-warning\" role=\"alert\" style=\"color: rgba(0,0,0,.8); background-color: white; margin-top: 1em; margin-bottom: 1em; margin:1.5625emauto; padding:0 .6rem .8rem!important;overflow:hidden; page-break-inside:avoid; border-radius:.25rem; box-shadow:0 .2rem .5rem rgba(0,0,0,.05),0 0 .05rem rgba(0,0,0,.1); transition:color .25s,background-color .25s,border-color .25s ; border-right: 1px solid #dee2e6 ; border-top: 1px solid #dee2e6 ; border-bottom: 1px solid #dee2e6 ; border-left:.2rem solid #1976d2;\">\n",
      "<h3 class=\"alert-heading\"><i class=\"fa fa-pencil\"></i> Nettoyer les données textuelles (🔵)</h3>\n"
     ]
    }
   ],
   "source": [
    "#| echo: false\n",
    "#| output: asis\n",
    "#| eval: true\n",
    "from utils_notebook import create_box_level\n",
    "create_box_level(color = \"🔵\", title = \"Nettoyer les données textuelles (🔵)\")"
   ]
  },
  {
   "cell_type": "markdown",
   "id": "45235e92",
   "metadata": {},
   "source": [
    "<details>\n",
    "<summary>Dérouler pour révéler les instructions</summary>\n",
    "```\n",
    "\n",
    "1. Récupérer le dictionnaire de règles dans [ce fichier](https://raw.githubusercontent.com/InseeFrLab/predicat/master/app/utils_ddc.py)\n",
    "2. Créer une colonne `preprocessed_labels` mettant en majuscule la colonne `product_name`\n",
    "3. Modifier le `DataFrame` avec la syntaxe utilisant la méthode `replace` (celle qui s'applique aux `DataFrame`, pas celle s'appliquant à une `Serie`) et le dictionnaire adapté\n",
    "4. Observer les cas où il y a eu des changements,\n",
    "\n",
    "```{=html}\n",
    "</details>\n",
    "</div>\n",
    "```\n",
    "\n",
    "<!----- end 🔵 ----->\n",
    ":::\n",
    "\n",
    "::: {.cell .markdown}\n",
    "<!----- boite 🔴 ----->\n",
    "\n",
    "```{=html}"
   ]
  },
  {
   "cell_type": "code",
   "execution_count": 19,
   "id": "43f4ed39",
   "metadata": {},
   "outputs": [
    {
     "name": "stdout",
     "output_type": "stream",
     "text": [
      "<div class=\"alert alert-warning\" role=\"alert\" style=\"color: rgba(0,0,0,.8); background-color: white; margin-top: 1em; margin-bottom: 1em; margin:1.5625emauto; padding:0 .6rem .8rem!important;overflow:hidden; page-break-inside:avoid; border-radius:.25rem; box-shadow:0 .2rem .5rem rgba(0,0,0,.05),0 0 .05rem rgba(0,0,0,.1); transition:color .25s,background-color .25s,border-color .25s ; border-right: 1px solid #dee2e6 ; border-top: 1px solid #dee2e6 ; border-bottom: 1px solid #dee2e6 ; border-left:.2rem solid #f44336;\">\n",
      "<h3 class=\"alert-heading\"><i class=\"fa fa-pencil\"></i> Nettoyer les données textuelles (🔴)</h3>\n"
     ]
    }
   ],
   "source": [
    "#| echo: false\n",
    "#| output: asis\n",
    "#| eval: true\n",
    "from utils_notebook import create_box_level\n",
    "create_box_level(color = \"🔴\", title = \"Nettoyer les données textuelles (🔴)\")"
   ]
  },
  {
   "cell_type": "markdown",
   "id": "04d2e19c",
   "metadata": {},
   "source": [
    "<details>\n",
    "<summary>Dérouler pour révéler les instructions</summary>\n",
    "```\n",
    "\n",
    "1. Récupérer le dictionnaire de règles dans [ce fichier](https://raw.githubusercontent.com/InseeFrLab/predicat/master/app/utils_ddc.py)\n",
    "2. Créer une colonne `preprocessed_labels` appliquant les remplacements à `product_name` grâce à la méthode `replace` (celle qui s'applique aux `DataFrame`, pas celle s'appliquant à une `Serie`)\n",
    "3. Observer les cas où il y a eu des changements\n",
    "\n",
    "```{=html}\n",
    "</details>\n",
    "</div>\n",
    "```\n",
    "\n",
    "<!----- end 🔴 ----->\n",
    ":::\n",
    "\n",
    "::: {.cell .markdown}\n",
    "<!----- boite ⚫ ----->\n",
    "\n",
    "```{=html}"
   ]
  },
  {
   "cell_type": "code",
   "execution_count": 20,
   "id": "6e534326",
   "metadata": {},
   "outputs": [
    {
     "name": "stdout",
     "output_type": "stream",
     "text": [
      "<div class=\"alert alert-warning\" role=\"alert\" style=\"color: rgba(0,0,0,.8); background-color: white; margin-top: 1em; margin-bottom: 1em; margin:1.5625emauto; padding:0 .6rem .8rem!important;overflow:hidden; page-break-inside:avoid; border-radius:.25rem; box-shadow:0 .2rem .5rem rgba(0,0,0,.05),0 0 .05rem rgba(0,0,0,.1); transition:color .25s,background-color .25s,border-color .25s ; border-right: 1px solid #dee2e6 ; border-top: 1px solid #dee2e6 ; border-bottom: 1px solid #dee2e6 ; border-left:.2rem solid #424242;\">\n",
      "<h3 class=\"alert-heading\"><i class=\"fa fa-pencil\"></i> Nettoyer les données textuelles (⚫)</h3>\n"
     ]
    }
   ],
   "source": [
    "#| echo: false\n",
    "#| output: asis\n",
    "#| eval: true\n",
    "from utils_notebook import create_box_level\n",
    "create_box_level(color = \"⚫\", title = \"Nettoyer les données textuelles (⚫)\")"
   ]
  },
  {
   "cell_type": "markdown",
   "id": "2b209093",
   "metadata": {},
   "source": [
    "<details>\n",
    "<summary>Dérouler pour révéler les instructions</summary>\n",
    "```\n",
    "\n",
    "1. Récupérer le dictionnaire de règles dans [ce fichier](https://raw.githubusercontent.com/InseeFrLab/predicat/master/app/utils_ddc.py)\n",
    "2. Créer une colonne `preprocessed_labels` appliquant les remplacements à `product_name`\n",
    "3. Observer les cas où il y a eu des changements\n",
    "\n",
    "```{=html}\n",
    "</details>\n",
    "</div>\n",
    "```\n",
    "\n",
    "<!----- end ⚫ ----->\n",
    ":::\n",
    "\n",
    "\n",
    "Dans un premier temps, on récupère les fonctions permettant d'appliquer sur nos données \n",
    "le même _preprocessing_ que celui qui a été mis en oeuvre lors de l'entraînement du modèle:"
   ]
  },
  {
   "cell_type": "code",
   "execution_count": 21,
   "id": "get-utils-ddc",
   "metadata": {},
   "outputs": [],
   "source": [
    "#| classes: yellow-code\n",
    "#| label: get-utils-ddc\n",
    "#| output: false\n",
    "\n",
    "# Solution pour voie 🟡 et 🟢\n",
    "from utils.download_pb import download_pb\n",
    "download_pb(\"https://raw.githubusercontent.com/InseeFrLab/predicat/master/app/utils_ddc.py\", \"utils/utils_ddc.py\")"
   ]
  },
  {
   "cell_type": "markdown",
   "id": "c5e98a03",
   "metadata": {},
   "source": [
    "Pour observer les nettoyages de champs textuels mis en oeuvre, les lignes suivantes\n",
    "peuvent être exécutées:"
   ]
  },
  {
   "cell_type": "code",
   "execution_count": 22,
   "id": "88ce4fa8",
   "metadata": {},
   "outputs": [],
   "source": [
    "#| output: false\n",
    "\n",
    "from utils.utils_ddc import replace_values_ean\n",
    "replace_values_ean"
   ]
  },
  {
   "cell_type": "markdown",
   "id": "1c7d112a",
   "metadata": {},
   "source": [
    "Pour effectuer des remplacements dans des champs textuels, le plus simple est d'utiliser\n",
    "les expressions régulières (`regex`). Vous pouvez trouver une ressource complète\n",
    "sur le sujet dans [ce cours de `Python` de l'ENSAE](https://pythonds.linogaliana.fr/regex/).\n",
    "\n",
    "Deux options s'offrent à nous:\n",
    "\n",
    "- Utiliser le _package_ `re` et boucler sur les lignes\n",
    "- Utiliser les fonctionnalités très pratiques de `Pandas`\n",
    "\n",
    "Nous privilégierons la deuxième approche, plus naturelle quand on utilise des `DataFrames` et\n",
    "plus efficace puisqu'elle est nativement intégrée à `Pandas`. \n",
    "\n",
    "La syntaxe prend la forme suivante : \n",
    "\n",
    "```python\n",
    "data.replace({variable: dict_rules_replacement}, regex=True)\n",
    "```\n",
    "\n",
    "C'est celle qui est implémentée dans la fonction _ad hoc_ du script `utils/preprocess_openfood.py`.\n",
    "Cette dernière s'utilise de la manière suivante:"
   ]
  },
  {
   "cell_type": "code",
   "execution_count": 23,
   "id": "6a273603",
   "metadata": {},
   "outputs": [],
   "source": [
    "from utils.utils_ddc import replace_values_ean\n",
    "from utils.preprocess_openfood import clean_column_dataset\n",
    "openfood = clean_column_dataset(\n",
    "        openfood, replace_values_ean,\n",
    "        \"product_name\", \"preprocessed_labels\"\n",
    ")"
   ]
  },
  {
   "cell_type": "markdown",
   "id": "ef47c11c",
   "metadata": {},
   "source": [
    "Voici quelques cas où notre nettoyage de données a modifié le nom du produit :"
   ]
  },
  {
   "cell_type": "code",
   "execution_count": 24,
   "id": "f88961a6",
   "metadata": {},
   "outputs": [],
   "source": [
    "(openfood\n",
    "    .dropna(subset = [\"product_name\", \"preprocessed_labels\"])\n",
    "    .loc[\n",
    "        openfood[\"product_name\"].str.upper() != openfood[\"preprocessed_labels\"],\n",
    "        [\"product_name\", \"preprocessed_labels\"]\n",
    "    ]\n",
    ")"
   ]
  },
  {
   "cell_type": "markdown",
   "id": "6e034a46",
   "metadata": {},
   "source": [
    "On peut remarquer que pour aller plus loin et améliorer la normalisation des champs,\n",
    "il serait pertinent d'appliquer un certain nombre de nettoyages supplémentaires, comme\n",
    "le retrait des mots de liaison (_stop words_). Des exemples de ce type de nettoyages\n",
    "sont présents dans le [cours de `Python` de l'ENSAE](https://pythonds.linogaliana.fr/nlpintro/).\n",
    "\n",
    "Cela est laissé comme exercice aux voies 🔴 et ⚫.\n",
    "\n",
    "\n",
    "::: {.cell .markdown}\n",
    "<!----- boite 🔴,⚫ ----->\n",
    "\n",
    "```{=html}"
   ]
  },
  {
   "cell_type": "code",
   "execution_count": 25,
   "id": "15638038",
   "metadata": {},
   "outputs": [
    {
     "name": "stdout",
     "output_type": "stream",
     "text": [
      "<div class=\"alert alert-warning\" role=\"alert\" style=\"color: rgba(0,0,0,.8); background-color: white; margin-top: 1em; margin-bottom: 1em; margin:1.5625emauto; padding:0 .6rem .8rem!important;overflow:hidden; page-break-inside:avoid; border-radius:.25rem; box-shadow:0 .2rem .5rem rgba(0,0,0,.05),0 0 .05rem rgba(0,0,0,.1); transition:color .25s,background-color .25s,border-color .25s ; border-right: 1px solid #dee2e6 ; border-top: 1px solid #dee2e6 ; border-bottom: 1px solid #dee2e6 ; border-left:.2rem solid #9c9797;\">\n",
      "<h3 class=\"alert-heading\"><i class=\"fa fa-pencil\"></i> Normaliser les champs textuels (🔴,⚫)</h3>\n"
     ]
    }
   ],
   "source": [
    "#| echo: false\n",
    "#| output: asis\n",
    "#| eval: true\n",
    "from utils_notebook import create_box_level\n",
    "create_box_level(color = \"grey\", title = \"Normaliser les champs textuels (🔴,⚫)\")"
   ]
  },
  {
   "cell_type": "markdown",
   "id": "559977a1",
   "metadata": {},
   "source": [
    "<details>\n",
    "<summary>Dérouler pour révéler les instructions</summary>\n",
    "```\n",
    "\n",
    "Utiliser `NLTK` ou `SpaCy` (solution préférable) pour ajouter des nettoyages\n",
    "de champs textuels\n",
    "\n",
    "```{=html}\n",
    "</details>\n",
    "</div>\n",
    "```\n",
    "\n",
    "<!----- end 🔴,⚫ ----->\n",
    ":::\n",
    "\n",
    "On peut maintenant se tourner vers la classification à proprement parler. \n",
    "Pour celle-ci, on propose d'utiliser un modèle qui a été entrainé\n",
    "avec la librairie [`Fasttext`](https://fasttext.cc/). Voici comment récupérer le modèle\n",
    "et le tester sur un exemple très basique:"
   ]
  },
  {
   "cell_type": "code",
   "execution_count": 26,
   "id": "2bb7e851",
   "metadata": {},
   "outputs": [],
   "source": [
    "from utils.download_pb import download_pb\n",
    "import os\n",
    "import fasttext\n",
    "\n",
    "if os.path.exists(\"fasttext_coicop.bin\") is False:\n",
    "    download_pb(\n",
    "        url = config[\"URL_FASTTEXT_MINIO\"],\n",
    "        fname = \"fasttext_coicop.bin\"\n",
    "    )\n",
    "\n",
    "\n",
    "model = fasttext.load_model(\"fasttext_coicop.bin\")\n",
    "model.predict(\"RATATOUILLE\")"
   ]
  },
  {
   "cell_type": "markdown",
   "id": "e12b3aaa",
   "metadata": {},
   "source": [
    "Le résultat est peu intelligible. En effet, cela demande une bonne connaissance de la \n",
    "COICOP pour savoir de\n",
    "manière intuitive que cela correspond à la catégorie [_\"Autres plats cuisinés à base de légumes\"_](https://www.insee.fr/fr/statistiques/serie/001764476). \n",
    "\n",
    "Avant de généraliser le classifieur à l'ensemble de nos données, on se propose donc de récupérer\n",
    "les noms des COICOP depuis le site [insee.fr](https://www.insee.fr/fr/metadonnees/coicop2016/division/01?champRecherche=true).\n",
    "Comme cela ne présente pas de défi majeur, le code est directement proposé, quelle que soit la voie empruntée:"
   ]
  },
  {
   "cell_type": "code",
   "execution_count": 27,
   "id": "1db35d29",
   "metadata": {},
   "outputs": [],
   "source": [
    "def import_coicop_labels(url: str) -> pd.DataFrame:\n",
    "    coicop = pd.read_excel(url, skiprows=1)\n",
    "    coicop['Code'] = coicop['Code'].str.replace(\"'\", \"\")\n",
    "    coicop = coicop.rename({\"Libellé\": \"category\"}, axis = \"columns\")\n",
    "    return coicop\n",
    "    \n",
    "coicop = import_coicop_labels(\n",
    "    \"https://www.insee.fr/fr/statistiques/fichier/2402696/coicop2016_liste_n5.xls\"\n",
    ")\n",
    "\n",
    "# Verification de la COICOP rencontrée plus haut\n",
    "coicop.loc[coicop[\"Code\"].str.contains(\"01.1.7.3.2\")]"
   ]
  },
  {
   "cell_type": "markdown",
   "id": "6b5aee0c",
   "metadata": {},
   "source": [
    "Maintenant nous avons tous les ingrédients pour généraliser notre approche.\n",
    "L'application en série de prédictions\n",
    "via `Fasttext` étant un peu fastidieuse et peu élégante (elle\n",
    "nécessite d'être à l'aise avec les listes `Python`) et n'étant pas le centre de notre sujet,\n",
    "la fonction suivante est fournie pour effectuer cette opération :"
   ]
  },
  {
   "cell_type": "code",
   "execution_count": 28,
   "id": "436b58b9",
   "metadata": {},
   "outputs": [],
   "source": [
    "def model_predict_coicop(data, model, product_column: str = \"preprocessed_labels\", output_column: str = \"coicop\"):\n",
    "    predictions = pd.DataFrame(\n",
    "        {\n",
    "        output_column: \\\n",
    "            [k[0] for k in model.predict(\n",
    "                [str(libel) for libel in data[product_column]], k = 1\n",
    "                )[0]]\n",
    "        })\n",
    "\n",
    "    data[output_column] = predictions[output_column].str.replace(r'__label__', '')\n",
    "    return data\n",
    "\n",
    "openfood = model_predict_coicop(openfood, model)"
   ]
  },
  {
   "cell_type": "markdown",
   "id": "a5ee49da",
   "metadata": {},
   "source": [
    "## 1.3.bis Version alternative via l'API [`predicat`](https://github.com/InseeFrLab/predicat)  (🟡,🟢,🔵,🔴,⚫)\n",
    "\n",
    "\n",
    "L'utilisation d'API pour accéder à des données devient de plus en plus fréquente. \n",
    "Si vous êtes peu familiers avec les API, vous pouvez consulter\n",
    "ce [chapitre du cours de `Python` de l'ENSAE](https://pythonds.linogaliana.fr/api/)\n",
    "ou de la documentation [`utilitR` (langage `R`)](https://www.book.utilitr.org/03_fiches_thematiques/fiche_api)\n",
    "\n",
    "Les API peuvent servir à faire beaucoup plus que récupérer des données. Elles sont\n",
    "notamment de plus en plus utilisées pour récupérer des prédictions\n",
    "d'un modèle. La plateforme [`HuggingFace`](https://huggingface.co/) est très appréciée\n",
    "pour cela: elle a grandement facilité la réutilisation de modèles mis en disposition\n",
    "en _open source_. Cette approche a principalement deux avantages:\n",
    "\n",
    "- Elle permet d'appliquer sur les données fournies en entrée exactement les mêmes pré-traitement\n",
    "que sur les données d'entrainement. Ceci renforce la fiabilité des prédictions. \n",
    "- Elle facilite le travail des _data scientists_ ou statisticiens car ils ne sont plus obligés \n",
    "de mettre en place des fonctions compliquées pour passer les prédictions dans une colonne\n",
    "de `DataFrame`. \n",
    "\n",
    "Ici, nous proposons de tester une API mise à disposition\n",
    "de manière expérimentale pour faciliter la réutilisation de notre modèle de classification\n",
    "dans la nomenclature COICOP.\n",
    "\n",
    "Cette API s'appelle `predicat` et son code source est\n",
    "disponible sur [`Github`](https://github.com/InseeFrLab/predicat).\n",
    "\n",
    "Pour les parcours 🟡,🟢,🔵, nous suggérons de se cantonner à tester quelques exemples. \n",
    "Pour les parcours 🔴 et ⚫ qui voudraient se tester sur les API,\n",
    "nous proposons de généraliser ces appels à [`predicat`](https://github.com/InseeFrLab/predicat)\n",
    "pour classifier toutes nos données. \n",
    "\n",
    "::: {.cell .markdown}\n",
    "<!----- boite 🔴,⚫ ----->\n",
    "\n",
    "```{=html}"
   ]
  },
  {
   "cell_type": "code",
   "execution_count": 29,
   "id": "f0166ab0",
   "metadata": {},
   "outputs": [
    {
     "name": "stdout",
     "output_type": "stream",
     "text": [
      "<div class=\"alert alert-warning\" role=\"alert\" style=\"color: rgba(0,0,0,.8); background-color: white; margin-top: 1em; margin-bottom: 1em; margin:1.5625emauto; padding:0 .6rem .8rem!important;overflow:hidden; page-break-inside:avoid; border-radius:.25rem; box-shadow:0 .2rem .5rem rgba(0,0,0,.05),0 0 .05rem rgba(0,0,0,.1); transition:color .25s,background-color .25s,border-color .25s ; border-right: 1px solid #dee2e6 ; border-top: 1px solid #dee2e6 ; border-bottom: 1px solid #dee2e6 ; border-left:.2rem solid #9c9797;\">\n",
      "<h3 class=\"alert-heading\"><i class=\"fa fa-pencil\"></i> Consommer un modèle sous forme d'API (🔴,⚫)</h3>\n"
     ]
    }
   ],
   "source": [
    "#| echo: false\n",
    "#| output: asis\n",
    "#| eval: true\n",
    "from utils_notebook import create_box_level\n",
    "create_box_level(color = \"grey\", title = \"Consommer un modèle sous forme d'API (🔴,⚫)\")"
   ]
  },
  {
   "cell_type": "markdown",
   "id": "597ee92a",
   "metadata": {},
   "source": [
    "<details>\n",
    "<summary>Dérouler pour révéler les instructions</summary>\n",
    "```\n",
    "\n",
    "Appliquer l'API [`predicat`](https://github.com/InseeFrLab/predicat) en série pour\n",
    "catégoriser l'ensemble des données\n",
    "\n",
    "```{=html}\n",
    "</details>\n",
    "</div>\n",
    "```\n",
    "\n",
    "<!----- end 🔴,⚫ ----->\n",
    ":::\n",
    "\n",
    "\n",
    "Voici, pour les parcours 🟡,🟢,🔵, un exemple d'utilisation:"
   ]
  },
  {
   "cell_type": "code",
   "execution_count": 30,
   "id": "d1a8d41b",
   "metadata": {},
   "outputs": [],
   "source": [
    "#| eval: false\n",
    "import requests\n",
    "\n",
    "def predict_from_api(product_name):\n",
    "    url_api = f\"https://api.lab.sspcloud.fr/predicat/label?k=1&q=%27{product_name}%27\"\n",
    "    output_api_predicat = requests.get(url_api).json()\n",
    "    coicop_found = output_api_predicat['coicop'][f\"'{product_name}'\"][0]['label']\n",
    "    return coicop_found\n",
    "\n",
    "predict_from_api(\"Ratatouille\")"
   ]
  },
  {
   "cell_type": "markdown",
   "id": "18e8813e",
   "metadata": {},
   "source": [
    "Pour le parcours 🔵, voici un exercice pour tester sur un échantillon des données\n",
    "de l'`OpenFoodFacts`\n",
    "\n",
    "\n",
    "::: {.cell .markdown}\n",
    "<!----- boite 🔵 ----->\n",
    "\n",
    "```{=html}"
   ]
  },
  {
   "cell_type": "code",
   "execution_count": 31,
   "id": "10398cec",
   "metadata": {},
   "outputs": [
    {
     "name": "stdout",
     "output_type": "stream",
     "text": [
      "<div class=\"alert alert-warning\" role=\"alert\" style=\"color: rgba(0,0,0,.8); background-color: white; margin-top: 1em; margin-bottom: 1em; margin:1.5625emauto; padding:0 .6rem .8rem!important;overflow:hidden; page-break-inside:avoid; border-radius:.25rem; box-shadow:0 .2rem .5rem rgba(0,0,0,.05),0 0 .05rem rgba(0,0,0,.1); transition:color .25s,background-color .25s,border-color .25s ; border-right: 1px solid #dee2e6 ; border-top: 1px solid #dee2e6 ; border-bottom: 1px solid #dee2e6 ; border-left:.2rem solid #1976d2;\">\n",
      "<h3 class=\"alert-heading\"><i class=\"fa fa-pencil\"></i> Consommer un modèle sous forme d'API (🔵)</h3>"
     ]
    },
    {
     "name": "stdout",
     "output_type": "stream",
     "text": [
      "\n"
     ]
    }
   ],
   "source": [
    "#| echo: false\n",
    "#| output: asis\n",
    "#| eval: true\n",
    "from utils_notebook import create_box_level\n",
    "create_box_level(color = \"🔵\", title = \"Consommer un modèle sous forme d'API (🔵)\")"
   ]
  },
  {
   "cell_type": "markdown",
   "id": "0d32a352",
   "metadata": {},
   "source": [
    "<details>\n",
    "<summary>Dérouler pour révéler les instructions</summary>\n",
    "```\n",
    "\n",
    "A partir des exemples présents dans [ce _notebook_](https://github.com/InseeFrLab/predicat/blob/master/help/example-request.ipynb),\n",
    "tester l'API sur une centaine de noms de produits pris aléatoirement (ceux avant _preprocessing_).\n",
    "\n",
    "\n",
    "```{=html}\n",
    "</details>\n",
    "</div>\n",
    "```\n",
    "\n",
    "<!----- end 🔵 ----->\n",
    ":::\n",
    "\n",
    "\n",
    "## 1.3.ter Entrainer son propre classifieur (🔴,⚫)\n",
    "\n",
    "Les grimpeurs des voies 🔴 et ⚫ sont encouragés à essayer d'entraîner\n",
    "eux-mêmes un modèle de classification.\n",
    "\n",
    "::: {.cell .markdown}\n",
    "<!----- boite 🔴, ⚫ ----->\n",
    "\n",
    "```{=html}"
   ]
  },
  {
   "cell_type": "code",
   "execution_count": 32,
   "id": "ec375317",
   "metadata": {},
   "outputs": [
    {
     "name": "stdout",
     "output_type": "stream",
     "text": [
      "<div class=\"alert alert-warning\" role=\"alert\" style=\"color: rgba(0,0,0,.8); background-color: white; margin-top: 1em; margin-bottom: 1em; margin:1.5625emauto; padding:0 .6rem .8rem!important;overflow:hidden; page-break-inside:avoid; border-radius:.25rem; box-shadow:0 .2rem .5rem rgba(0,0,0,.05),0 0 .05rem rgba(0,0,0,.1); transition:color .25s,background-color .25s,border-color .25s ; border-right: 1px solid #dee2e6 ; border-top: 1px solid #dee2e6 ; border-bottom: 1px solid #dee2e6 ; border-left:.2rem solid #9c9797;\">\n",
      "<h3 class=\"alert-heading\"><i class=\"fa fa-pencil\"></i> Entrainer son propre modèle de classification (🔴, ⚫)</h3>\n"
     ]
    }
   ],
   "source": [
    "#| echo: false\n",
    "#| output: asis\n",
    "#| eval: true\n",
    "from utils_notebook import create_box_level\n",
    "create_box_level(color = \"grey\", title = \"Entrainer son propre modèle de classification (🔴, ⚫)\")"
   ]
  },
  {
   "cell_type": "markdown",
   "id": "135591cf",
   "metadata": {},
   "source": [
    "<details>\n",
    "<summary>Dérouler pour révéler les instructions</summary>\n",
    "```\n",
    "\n",
    "A partir des exemples présents dans [ce _notebook_](https://github.com/InseeFrLab/predicat/blob/master/help/example-request.ipynb),\n",
    "tester l'API sur une centaine de noms de produits pris aléatoirement (ceux avant _preprocessing_). L'apprentissage peut\n",
    "être fait à partir de la variable `category` disponible sur `OpenFoodFacts`.\n",
    "\n",
    "Voici la consigne: \n",
    "\n",
    "- 🔴 : utiliser `fasttext`\n",
    "- ⚫ : liberté sur le _framework_ utilisé\n",
    "\n",
    "\n",
    "```{=html}\n",
    "</details>\n",
    "</div>\n",
    "```\n",
    "\n",
    "<!----- end 🔴, ⚫ ----->\n",
    ":::\n",
    "\n",
    "\n",
    "\n",
    "## 1.4. Ecriture de la base sur l'espace de stockage distant\n",
    "\n",
    "Le fait d'avoir effectué en amont ce type d'opération permettra\n",
    "d'économiser du temps par la suite puisqu'on s'évite des calculs à la\n",
    "volée coûteux en performance (rien de pire qu'une page _web_ qui rame non ?). \n",
    "\n",
    "Pour facilement retrouver ces données, on propose de les écrire dans un espace\n",
    "de stockage accessible facilement. Pour cela, nous proposons d'utiliser celui\n",
    "du `SSP Cloud` pour les personnes ayant un compte dessus. Pour les personnes\n",
    "n'ayant pas de compte sur le `SSP Cloud`, vous pouvez passer cette étape et réutiliser\n",
    "le jeu de données que nous proposons pour la suite de ce parcours. \n",
    "\n",
    "Nous proposons ici d'utiliser le package `s3fs` qui est \n",
    "assez pratique pour traiter un espace distant comme on ferait d'un \n",
    "espace de stockage local. Pour en apprendre plus sur le système\n",
    "de stockage `S3` (la technologie utilisée par le SSP Cloud) \n",
    "ou sur le format `Parquet`, vous pouvez consulter ce chapitre\n",
    "du [cours de `Python` de l'ENSAE](https://pythonds.linogaliana.fr/reads3/)\n",
    "\n",
    "La première étape consiste à initialiser la connexion (créer un _file system_ \n",
    "distant, via `s3fs.S3FileSystem`, qui pointe vers l'espace de stockage du SSP Cloud). \n",
    "La deuxième ressemble beaucoup à l'écriture d'un fichier en local, il y a seulement une\n",
    "couche d'abstraction supplémentaire avec `fs.open`: \n"
   ]
  },
  {
   "cell_type": "code",
   "execution_count": 33,
   "id": "35c50e13",
   "metadata": {},
   "outputs": [],
   "source": [
    "from utils.import_yaml import import_yaml\n",
    "import s3fs\n",
    "\n",
    "config = import_yaml(\"config.yaml\")\n",
    "DESTINATION_OPENFOOD = f\"{config['BUCKET']}{config['DESTINATION_DATA_S3']}/openfood.parquet\"\n",
    "\n",
    "# Initialisation de la connexion\n",
    "fs = s3fs.S3FileSystem(\n",
    "    client_kwargs={\"endpoint_url\": config[\"ENDPOINT_S3\"]}\n",
    ")\n",
    "\n",
    "# Ecriture au format parquet sur l'espace de stockage distant\n",
    "with fs.open(DESTINATION_OPENFOOD, \"wb\") as file_location:\n",
    "    openfood.to_parquet(file_location)"
   ]
  },
  {
   "cell_type": "markdown",
   "id": "964ed413",
   "metadata": {},
   "source": [
    "⚠️ __Il faut avoir modifié la valeur de `BUCKET` dans le fichier `config.yaml` pour\n",
    "que cette commande fonctionne__. \n",
    "\n",
    "Enfin, pour rendre ce fichier accessible à votre future application, \n",
    "il est nécessaire d'éditer la cellule ci-dessous pour remplacer\n",
    "`<USERNAME_SSPCLOUD>` par votre nom d'utilisateur sur le `SSPCloud` puis \n",
    "d'exécuter la cellule suivante qui va permettre de rendre ce fichier public. : "
   ]
  },
  {
   "cell_type": "code",
   "execution_count": 34,
   "id": "4cff22d6",
   "metadata": {},
   "outputs": [],
   "source": [
    "#| eval: false\n",
    "# ⚠️ modifier ci-dessous pour remplacer USERNAME_SSPCLOUD par votre nom d'utilisateur sur le SSPCloud\n",
    "!mc anonymous set download s3/<USERNAME_SSPCLOUD>/2023/sujet4/diffusion"
   ]
  },
  {
   "cell_type": "markdown",
   "id": "062939a7",
   "metadata": {},
   "source": [
    "⚠️ **Il faut avoir modifié la valeur de `USERNAME_SSPCLOUD` dans la commande pour que cela fonctionne**.\n",
    "\n",
    "\n",
    "\n",
    "\n",
    "Le fichier sera ainsi disponible en téléchargement directement depuis un URL de la forme: \n",
    "\n",
    "> https://minio.lab.sspcloud.fr/<USERNAME_SSPCLOUD>/2023/sujet4/diffusion/openfood.parquet\n",
    "\n",
    "# 2️⃣ Faire des statistiques agrégées par catégories\n",
    "\n",
    "Cette partie permet de calculer en amont de l'application des\n",
    "statistiques descriptives qui pourront être utilisées\n",
    "par celle-ci. \n",
    "\n",
    "Il est préférable de minimiser la quantité de calculs\n",
    "faits à la volée dans le cadre d'une application. Sinon,\n",
    "le risque est une latence embêtante pour l'utilisateur\n",
    "voire un crash du serveur à cause de besoins\n",
    "de ressources trop importants.\n",
    "\n",
    "Cette partie propose ainsi de créer en avance une\n",
    "base de données synthétisant \n",
    "le\n",
    "nombre de produits dans une catégorie donnée (par exemple les\n",
    "fromages à pâte crue) qui partagent la même note.\n",
    "Cela nous permettra d'afficher des statistiques personnalisées\n",
    "sur les produits similaires à celui qu'on scanne. \n",
    "\n",
    "\n",
    "## 2.1. Préliminaires (🟡,🟢,🔵,🔴,⚫)\n",
    "\n",
    "\n",
    "Sur le plan technique, cette partie propose deux cadres de manipulation\n",
    "de données différents,\n",
    "selon le balisage de la voie:\n",
    "\n",
    "- 🟡,🟢,🔵: utilisation de `Pandas`\n",
    "- 🔴,⚫: requêtes SQL directement sur le fichier `Parquet` grâce à `DuckDB`\n",
    "\n",
    "La deuxième approche permet de mettre en oeuvre des calculs plus efficaces\n",
    "(`DuckDB`) est plus rapide mais nécessite un peu plus d'expertise sur la\n",
    "manipulation de données, notamment des connaissances en SQL. \n",
    "\n",
    "Cette partie va fonctionner en trois temps:\n",
    "\n",
    "1. Lecture des données `OpenFoodFacts` précédemment produites\n",
    "2. Construction de statistiques descriptives standardisées\n",
    "3. Construction de graphiques à partir de ces statistiques descriptives\n",
    "\n",
    "Les étapes 1 et 2 sont séparées conceptuellement pour les parcours 🟡,🟢,🔵. \n",
    "Pour les parcours 🔴 et ⚫, l'utilisation de requêtes SQL fait que ces\n",
    "deux étapes conceptuelles sont intriquées. Les parcours 🟡,🟢,🔵\n",
    "peuvent observer les morceaux de code proposés dans le cadre 🔴 et ⚫,\n",
    "c'est assez instructif. L'étape 3 (production de graphiques)\n",
    "sera la même pour tous les parcours. \n",
    "\n",
    "::: {.cell .markdown}\n",
    "```{=html}\n",
    "<div class=\"alert alert-warning\" role=\"alert\" style=\"color: rgba(0,0,0,.8); background-color: white; margin-top: 1em; margin-bottom: 1em; margin:1.5625emauto; padding:0 .6rem .8rem!important;overflow:hidden; page-break-inside:avoid; border-radius:.25rem; box-shadow:0 .2rem .5rem rgba(0,0,0,.05),0 0 .05rem rgba(0,0,0,.1); transition:color .25s,background-color .25s,border-color .25s ; border-right: 1px solid #dee2e6 ; border-top: 1px solid #dee2e6 ; border-bottom: 1px solid #dee2e6 ; border-left:.2rem solid #ffc10780;\">\n",
    "<h3 class=\"alert-heading\"><i class=\"fa fa-lightbulb-o\"></i> Hint</h3>\n",
    "```\n",
    "\n",
    "Cette partie peut être faite sans avoir suivie la précédente. \n",
    "Il est alors recommandé d'effectuer deux actions:\n",
    "\n",
    "1. Dans le fichier `config.yaml`, remplacer `\"projet-funathon\"` par votre nom\n",
    "d'utilisateur sur le `SSP Cloud`\n",
    "2. Créer une cellule en copiant-collant le texte suivant et\n",
    "en remplacant `<USERNAME_SSPCLOUD>` par votre nom d'utilisateur sur le SSPCloud. \n",
    "\n",
    "```python\n",
    "# créer une cellule de code et copier dedans ce texte\n",
    "# remplacer `<USERNAME_SSPCLOUD>` par votre nom d'utilisateur sur le SSPCloud\n",
    "!mc cp s3/projet-funathon/2023/sujet4/diffusion/openfood.parquet s3/<USERNAME_SSPCLOUD>/2023/sujet4/diffusion/openfood.parquet\n",
    "```\n",
    "\n",
    "⚠️ __Il faut avoir modifié la valeur de `USERNAME_SSPCLOUD` pour\n",
    "que cette commande fonctionne__. \n",
    "\n",
    "\n",
    "Cette commande permet de copier le fichier d'exemple que nous avons\n",
    "mis à disposition vers votre espace personnel.\n",
    "\n",
    "```{=html}\n",
    "</div>\n",
    "```\n",
    ":::\n",
    "\n",
    "\n",
    "Nous proposons d'importer à nouveau nos configurations:"
   ]
  },
  {
   "cell_type": "code",
   "execution_count": 35,
   "id": "2afbde6e",
   "metadata": {},
   "outputs": [],
   "source": [
    "from utils.import_yaml import import_yaml\n",
    "config = import_yaml(\"config.yaml\")"
   ]
  },
  {
   "cell_type": "markdown",
   "id": "bba4790b",
   "metadata": {},
   "source": [
    "Les colonnes suivantes nous seront utiles dans cette partie:"
   ]
  },
  {
   "cell_type": "code",
   "execution_count": 36,
   "id": "d8df4495",
   "metadata": {},
   "outputs": [],
   "source": [
    "indices_synthetiques = [\n",
    "    \"nutriscore_grade\", \"ecoscore_grade\", \"nova_group\"\n",
    "]\n",
    "principales_infos = ['product_name', 'code', 'preprocessed_labels', 'coicop']"
   ]
  },
  {
   "cell_type": "markdown",
   "id": "551ef2da",
   "metadata": {},
   "source": [
    "Voici, à nouveau, la configuration pour permettre à `Python`\n",
    "de communiquer avec l'espace de stockage distant:"
   ]
  },
  {
   "cell_type": "code",
   "execution_count": 37,
   "id": "c2026215",
   "metadata": {},
   "outputs": [],
   "source": [
    "import s3fs\n",
    "\n",
    "config = import_yaml(\"config.yaml\")\n",
    "INPUT_OPENFOOD = f\"{config['BUCKET']}{config['DESTINATION_DATA_S3']}/openfood.parquet\"\n",
    "\n",
    "# Initialisation de la connexion\n",
    "fs = s3fs.S3FileSystem(\n",
    "    client_kwargs={\"endpoint_url\": config[\"ENDPOINT_S3\"]}\n",
    ")"
   ]
  },
  {
   "cell_type": "markdown",
   "id": "cbcf8703",
   "metadata": {},
   "source": [
    "## 2.2. Import des données depuis l'espace de stockage distant avec `Pandas` (🟡,🟢,🔵)\n",
    "\n",
    "Il est recommandé pour les parcours 🟡, 🟢, 🔵 de travailler avec `Pandas` pour construire\n",
    "des statistiques descriptives. Cela se fera en deux étapes:\n",
    "\n",
    "- Import des données directement depuis l'espace de stockage, sans écriture intermédiaire sur le disque local,\n",
    "puis nettoyage de celles-ci ;\n",
    "- Construction de fonctions standardisées pour la production de statistiques descriptives.\n",
    "\n",
    "### Import et nettoyage des données `OpenFoodFacts` (🟡, 🟢 et 🔵)\n",
    "\n",
    "Il est possible de lire un CSV de plusieurs manières avec `Python`.\n",
    "L'une d'elle se fait à travers le _[context manager](https://book.pythontips.com/en/latest/context_managers.html#context-managers)_. \n",
    "Le module `s3fs` permet d'utiliser ce _context manager_ pour lire un fichier distant, \n",
    "de manière très similaire à la lecture d'un fichier local. \n",
    "\n",
    "::: {.cell .markdown}\n",
    "<!----- boite 🔵 ----->\n",
    "\n",
    "```{=html}"
   ]
  },
  {
   "cell_type": "code",
   "execution_count": 38,
   "id": "8d23858c",
   "metadata": {},
   "outputs": [
    {
     "name": "stdout",
     "output_type": "stream",
     "text": [
      "<div class=\"alert alert-warning\" role=\"alert\" style=\"color: rgba(0,0,0,.8); background-color: white; margin-top: 1em; margin-bottom: 1em; margin:1.5625emauto; padding:0 .6rem .8rem!important;overflow:hidden; page-break-inside:avoid; border-radius:.25rem; box-shadow:0 .2rem .5rem rgba(0,0,0,.05),0 0 .05rem rgba(0,0,0,.1); transition:color .25s,background-color .25s,border-color .25s ; border-right: 1px solid #dee2e6 ; border-top: 1px solid #dee2e6 ; border-bottom: 1px solid #dee2e6 ; border-left:.2rem solid #1976d2;\">\n",
      "<h3 class=\"alert-heading\"><i class=\"fa fa-pencil\"></i> Lire les données depuis un espace distant (🔵)</h3>\n"
     ]
    }
   ],
   "source": [
    "#| echo: false\n",
    "#| output: asis\n",
    "#| eval: true\n",
    "from utils_notebook import create_box_level\n",
    "create_box_level(color = \"🔵\", title = \"Lire les données depuis un espace distant (🔵)\")"
   ]
  },
  {
   "cell_type": "markdown",
   "id": "ec65385b",
   "metadata": {},
   "source": [
    "<details>\n",
    "<summary>Dérouler pour révéler les instructions</summary>\n",
    "```\n",
    "\n",
    "A partir du _context manager_ intégré à `s3fs`, lire\n",
    "les données en suivant les consignes suivantes:\n",
    "\n",
    "- la localisation des données est stockée dans la variable `INPUT_OPENFOOD`\n",
    "- Utiliser l'option `columns = principales_infos + indices_synthetiques`\n",
    "pour n'importer que les variables nécessaires.\n",
    "\n",
    "```{=html}\n",
    "</details>\n",
    "</div>\n",
    "```\n",
    "\n",
    "<!----- end 🔵 ----->\n",
    ":::\n",
    "\n",
    "\n",
    "::: {.cell .markdown}\n",
    "<!----- boite 🟢 ----->\n",
    "\n",
    "```{=html}"
   ]
  },
  {
   "cell_type": "code",
   "execution_count": 39,
   "id": "59bc663f",
   "metadata": {},
   "outputs": [
    {
     "name": "stdout",
     "output_type": "stream",
     "text": [
      "<div class=\"alert alert-warning\" role=\"alert\" style=\"color: rgba(0,0,0,.8); background-color: white; margin-top: 1em; margin-bottom: 1em; margin:1.5625emauto; padding:0 .6rem .8rem!important;overflow:hidden; page-break-inside:avoid; border-radius:.25rem; box-shadow:0 .2rem .5rem rgba(0,0,0,.05),0 0 .05rem rgba(0,0,0,.1); transition:color .25s,background-color .25s,border-color .25s ; border-right: 1px solid #dee2e6 ; border-top: 1px solid #dee2e6 ; border-bottom: 1px solid #dee2e6 ; border-left:.2rem solid #7cb342;\">\n",
      "<h3 class=\"alert-heading\"><i class=\"fa fa-pencil\"></i> Lire les données depuis un espace distant (🟢)</h3>\n"
     ]
    }
   ],
   "source": [
    "#| echo: false\n",
    "#| output: asis\n",
    "#| eval: true\n",
    "from utils_notebook import create_box_level\n",
    "create_box_level(color = \"🟢\", title = \"Lire les données depuis un espace distant (🟢)\")"
   ]
  },
  {
   "cell_type": "markdown",
   "id": "383c7bdf",
   "metadata": {},
   "source": [
    "<details>\n",
    "<summary>Dérouler pour révéler les instructions</summary>\n",
    "```\n",
    "\n",
    "Lors de l'écriture du fichier nous avons utilisé la commande suivante:\n",
    "\n",
    "```python\n",
    "# Ecriture au format parquet sur l'espace de stockage distant\n",
    "with fs.open(DESTINATION_OPENFOOD, \"wb\") as file_location:\n",
    "    openfood.to_parquet(file_location)\n",
    "```\n",
    "\n",
    "Nous proposons de suivre la même logique en changeant quelques éléments:\n",
    "\n",
    "- La variable de chemin à utiliser ici est `INPUT_OPENFOOD` ;\n",
    "- Le contexte n'est plus à l'écriture (_\"wb\"_) mais à la lecture (_\"rb\"_) ;\n",
    "- La commande à exécuter dans ce contexte n'est plus l'écriture d'un fichier parquet\n",
    "mais `pd.read_parquet`. Utiliser\n",
    "l'option `columns = principales_infos + indices_synthetiques`\n",
    "pour n'importer que les variables nécessaires.\n",
    "\n",
    "```{=html}\n",
    "</details>\n",
    "</div>\n",
    "```\n",
    "\n",
    "<!----- end 🟢 ----->\n",
    ":::\n"
   ]
  },
  {
   "cell_type": "code",
   "execution_count": 40,
   "id": "get-openfood-parquet-2",
   "metadata": {},
   "outputs": [],
   "source": [
    "#| classes: yellow-code\n",
    "#| label: get-openfood-parquet-2\n",
    "#| output: false\n",
    "\n",
    "# Solution pour voie 🟡, 🟢 et 🔵\n",
    "import pandas as pd\n",
    "\n",
    "# methode 1: pandas\n",
    "with fs.open(INPUT_OPENFOOD, \"rb\") as remote_file:\n",
    "    openfood = pd.read_parquet(\n",
    "        remote_file,\n",
    "        columns = principales_infos + \\\n",
    "        indices_synthetiques\n",
    "    )"
   ]
  },
  {
   "cell_type": "markdown",
   "id": "08aed043",
   "metadata": {},
   "source": [
    "Les données ont ainsi l'aspect suivant:"
   ]
  },
  {
   "cell_type": "code",
   "execution_count": 41,
   "id": "2748d5ab",
   "metadata": {},
   "outputs": [],
   "source": [
    "openfood.head(2)"
   ]
  },
  {
   "cell_type": "markdown",
   "id": "b580b683",
   "metadata": {},
   "source": [
    "## 2.3. Statistiques descriptives (🟡, 🟢 et 🔵)\n",
    "\n",
    "On désire calculer pour chaque classe de\n",
    "produits - par exemple les boissons rafraichissantes - \n",
    "le nombre de produits qui partagent une même note pour chaque\n",
    "indicateur de qualité nutritionnelle ou environnementale.\n",
    "\n",
    "Nous allons utiliser le `DataFrame` suivant pour les calculs de notes:"
   ]
  },
  {
   "cell_type": "code",
   "execution_count": 42,
   "id": "879018e2",
   "metadata": {},
   "outputs": [],
   "source": [
    "openfood_notes = openfood.loc[:,[\"coicop\"] + indices_synthetiques]"
   ]
  },
  {
   "cell_type": "markdown",
   "id": "91c6df15",
   "metadata": {},
   "source": [
    "::: {.cell .markdown}\n",
    "<!----- boite 🔵 ----->\n",
    "\n",
    "```{=html}"
   ]
  },
  {
   "cell_type": "code",
   "execution_count": 43,
   "id": "5df48e57",
   "metadata": {},
   "outputs": [
    {
     "name": "stdout",
     "output_type": "stream",
     "text": [
      "<div class=\"alert alert-warning\" role=\"alert\" style=\"color: rgba(0,0,0,.8); background-color: white; margin-top: 1em; margin-bottom: 1em; margin:1.5625emauto; padding:0 .6rem .8rem!important;overflow:hidden; page-break-inside:avoid; border-radius:.25rem; box-shadow:0 .2rem .5rem rgba(0,0,0,.05),0 0 .05rem rgba(0,0,0,.1); transition:color .25s,background-color .25s,border-color .25s ; border-right: 1px solid #dee2e6 ; border-top: 1px solid #dee2e6 ; border-bottom: 1px solid #dee2e6 ; border-left:.2rem solid #1976d2;\">\n",
      "<h3 class=\"alert-heading\"><i class=\"fa fa-pencil\"></i> Distribution des notes par catégorie de produit (🔵)</h3>\n"
     ]
    }
   ],
   "source": [
    "#| echo: false\n",
    "#| output: asis\n",
    "#| eval: true\n",
    "from utils_notebook import create_box_level\n",
    "create_box_level(color = \"🔵\", title = \"Distribution des notes par catégorie de produit (🔵)\")"
   ]
  },
  {
   "cell_type": "markdown",
   "id": "ab163450",
   "metadata": {},
   "source": [
    "<details>\n",
    "<summary>Dérouler pour révéler les instructions</summary>\n",
    "```\n",
    "\n",
    "1. Pour chaque valeur de la variable `coicop`,\n",
    "avec la méthode `agg`, effectuer un décompte des notes (`value_counts` en `Pandas`)\n",
    "pour chaque variable de la liste `indices_synthetiques` grâce à la méthode `agg`.\n",
    "Renommer ensuite les deux variables d'index 'coicop' et 'note' grâce à la méthode `reset_index`\n",
    "\n",
    "2. Pivoter les données vers un format _long_\n",
    "via les axes `coicop` et `note`\n",
    "\n",
    "3. Dédupliquer les données en ne gardant que les paires uniques sur les variables\n",
    "`variable, note, coicop`\n",
    "\n",
    "```{=html}\n",
    "</details>\n",
    "</div>\n",
    "```\n",
    "\n",
    "<!----- end 🔵 ----->\n",
    ":::\n",
    "\n",
    "\n",
    "::: {.cell .markdown}\n",
    "<!----- boite 🟢 ----->\n",
    "\n",
    "```{=html}"
   ]
  },
  {
   "cell_type": "code",
   "execution_count": 44,
   "id": "51af264a",
   "metadata": {},
   "outputs": [
    {
     "name": "stdout",
     "output_type": "stream",
     "text": [
      "<div class=\"alert alert-warning\" role=\"alert\" style=\"color: rgba(0,0,0,.8); background-color: white; margin-top: 1em; margin-bottom: 1em; margin:1.5625emauto; padding:0 .6rem .8rem!important;overflow:hidden; page-break-inside:avoid; border-radius:.25rem; box-shadow:0 .2rem .5rem rgba(0,0,0,.05),0 0 .05rem rgba(0,0,0,.1); transition:color .25s,background-color .25s,border-color .25s ; border-right: 1px solid #dee2e6 ; border-top: 1px solid #dee2e6 ; border-bottom: 1px solid #dee2e6 ; border-left:.2rem solid #7cb342;\">\n",
      "<h3 class=\"alert-heading\"><i class=\"fa fa-pencil\"></i> Distribution des notes par catégorie de produit (🟢)</h3>\n"
     ]
    }
   ],
   "source": [
    "#| echo: false\n",
    "#| output: asis\n",
    "#| eval: true\n",
    "from utils_notebook import create_box_level\n",
    "create_box_level(color = \"🟢\", title = \"Distribution des notes par catégorie de produit (🟢)\")"
   ]
  },
  {
   "cell_type": "markdown",
   "id": "ff9d2ae3",
   "metadata": {},
   "source": [
    "<details>\n",
    "<summary>Dérouler pour révéler les instructions</summary>\n",
    "```\n",
    "\n",
    "1. Après un `groupby(\"coicop\")`, effectuer un décompte des notes (`value_counts` en `Pandas`)\n",
    "pour chaque variable de la liste `indices_synthetiques` grâce à la méthode `agg`\n",
    "puis renommer les deux variables d'index 'coicop' et 'note' grâce à la méthode `reset_index`\n",
    "\n",
    "```{=html}\n",
    "<details>\n",
    "<summary>Réponse en cas de difficulté</summary>\n",
    "```\n",
    "\n",
    "```python\n",
    "stats_notes = (\n",
    "    openfood_notes\n",
    "    .groupby(\"coicop\")\n",
    "    .agg({i:'value_counts' for i in indices_synthetiques})\n",
    "    .reset_index(names=['coicop', 'note'])\n",
    ")\n",
    "```\n",
    "\n",
    "```{=html}\n",
    "</details>\n",
    "\n",
    "```\n",
    "\n",
    "2. Utiliser `pd.melt` pour pivoter les données vers un format _long_\n",
    "via les axes `coicop` et `note`\n",
    "\n",
    "3. Dédupliquer les données en ne gardant que les paires uniques sur les variables\n",
    "`variable, note, coicop` grâce à la méthode `drop_duplicates`\n",
    "\n",
    "```{=html}\n",
    "</details>\n",
    "</div>\n",
    "```\n",
    "\n",
    "<!----- end 🟢 ----->\n",
    ":::\n"
   ]
  },
  {
   "cell_type": "code",
   "execution_count": 45,
   "id": "8d200b2d",
   "metadata": {},
   "outputs": [],
   "source": [
    "# Solution pour voie 🟡, 🟢 et 🔵\n",
    "def compute_stats_grades(data, indices_synthetiques):\n",
    "    stats_notes = (\n",
    "        data\n",
    "        .groupby(\"coicop\")\n",
    "        .agg({i:'value_counts' for i in indices_synthetiques})\n",
    "        .reset_index(names=['coicop', 'note'])\n",
    "    )\n",
    "    stats_notes = pd.melt(stats_notes, id_vars = ['coicop','note'])\n",
    "    stats_notes = stats_notes.dropna().drop_duplicates(subset = ['variable','note','coicop'])\n",
    "    stats_notes['value'] = stats_notes['value'].astype(int)\n",
    "  \n",
    "    return stats_notes\n",
    "\n",
    "stats_notes = compute_stats_grades(openfood_notes, indices_synthetiques)"
   ]
  },
  {
   "cell_type": "markdown",
   "id": "fd47000e",
   "metadata": {},
   "source": [
    "## 2.4. Import et traitement des données avec `DuckDB` (🔴 et ⚫)\n",
    "\n",
    "Cette partie propose pour les parcours 🔴 et ⚫ de reproduire l'analyse faite par\n",
    "les parcours 🟡,🟢 et 🔵 via `Pandas`. \n",
    "\n",
    "`DuckDB` va être utilisé pour lire et agréger les données. \n",
    "Pour lire directement depuis un système de stockage distant, sans pré-télécharger les \n",
    "données, vous pouvez utiliser la configuration suivante de `DuckDB`:"
   ]
  },
  {
   "cell_type": "code",
   "execution_count": 46,
   "id": "8127ff63",
   "metadata": {},
   "outputs": [],
   "source": [
    "import duckdb\n",
    "con = duckdb.connect(database=':memory:')\n",
    "con.execute(\"\"\"\n",
    "    INSTALL httpfs;\n",
    "    LOAD httpfs;\n",
    "    SET s3_endpoint='minio.lab.sspcloud.fr'\n",
    "\"\"\")"
   ]
  },
  {
   "cell_type": "markdown",
   "id": "e41b2832",
   "metadata": {},
   "source": [
    "Et voici un exemple minimal de lecture de données à partir du chemin\n",
    "`INPUT_OPENFOOD` défini précédemment. "
   ]
  },
  {
   "cell_type": "code",
   "execution_count": 47,
   "id": "2e457a08",
   "metadata": {},
   "outputs": [],
   "source": [
    "duckdb_data = con.sql(\n",
    "    f\"SELECT product_name, preprocessed_labels, coicop, energy_100g FROM read_parquet('s3://{INPUT_OPENFOOD}') LIMIT 10\"\n",
    ")\n",
    "duckdb_data.df() #conversion en pandas dataframe"
   ]
  },
  {
   "cell_type": "markdown",
   "id": "cfcabbb5",
   "metadata": {},
   "source": [
    "Nous proposons de créer une unique requête SQL qui, dans une clause `SELECT`,\n",
    "pour chaque classe de produit (notre variable de COICOP),\n",
    "compte le nombre de produits qui partagent une même note. \n",
    "\n",
    "\n",
    "::: {.cell .markdown}\n",
    "<!----- boite ⚫ ----->\n",
    "\n",
    "```{=html}"
   ]
  },
  {
   "cell_type": "code",
   "execution_count": 48,
   "id": "a503d0bc",
   "metadata": {},
   "outputs": [
    {
     "name": "stdout",
     "output_type": "stream",
     "text": [
      "<div class=\"alert alert-warning\" role=\"alert\" style=\"color: rgba(0,0,0,.8); background-color: white; margin-top: 1em; margin-bottom: 1em; margin:1.5625emauto; padding:0 .6rem .8rem!important;overflow:hidden; page-break-inside:avoid; border-radius:.25rem; box-shadow:0 .2rem .5rem rgba(0,0,0,.05),0 0 .05rem rgba(0,0,0,.1); transition:color .25s,background-color .25s,border-color .25s ; border-right: 1px solid #dee2e6 ; border-top: 1px solid #dee2e6 ; border-bottom: 1px solid #dee2e6 ; border-left:.2rem solid #424242;\">\n",
      "<h3 class=\"alert-heading\"><i class=\"fa fa-pencil\"></i> Distribution des notes par catégorie de produit (⚫)</h3>\n"
     ]
    }
   ],
   "source": [
    "#| echo: false\n",
    "#| output: asis\n",
    "#| eval: true\n",
    "from utils_notebook import create_box_level\n",
    "create_box_level(color = \"⚫\", title = \"Distribution des notes par catégorie de produit (⚫)\")"
   ]
  },
  {
   "cell_type": "markdown",
   "id": "3ea3d5a9",
   "metadata": {},
   "source": [
    "<details>\n",
    "<summary>Dérouler pour révéler les instructions</summary>\n",
    "```\n",
    "\n",
    "- Créer une fonction `count_one_variable_sql` prenant un argument nommé `con` (connexion DuckDB),\n",
    "un argument `variable` (par défaut égal à `nova_group`) et un chemin de lecture des données\n",
    "dans le système `S3`. Cette fonction agrège calcule la statistique descriptive désirée \n",
    "pour `variable`.\n",
    "- Créer le `DataFrame` qui combine toutes ces statistiques pour les\n",
    "variables `[\"nutriscore_grade\", \"ecoscore_grade\", \"nova_group\"]`.\n",
    "Celui-ci comporte quatre variables: `coicop`, `note`, `value` et `variable`.\n",
    "\n",
    "```{=html}\n",
    "</details>\n",
    "</div>\n",
    "```\n",
    "\n",
    "<!----- end ⚫ ----->\n",
    ":::\n",
    "\n",
    "\n",
    "::: {.cell .markdown}\n",
    "<!----- boite 🔴 ----->\n",
    "\n",
    "```{=html}"
   ]
  },
  {
   "cell_type": "code",
   "execution_count": 49,
   "id": "bb59a73e",
   "metadata": {},
   "outputs": [
    {
     "name": "stdout",
     "output_type": "stream",
     "text": [
      "<div class=\"alert alert-warning\" role=\"alert\" style=\"color: rgba(0,0,0,.8); background-color: white; margin-top: 1em; margin-bottom: 1em; margin:1.5625emauto; padding:0 .6rem .8rem!important;overflow:hidden; page-break-inside:avoid; border-radius:.25rem; box-shadow:0 .2rem .5rem rgba(0,0,0,.05),0 0 .05rem rgba(0,0,0,.1); transition:color .25s,background-color .25s,border-color .25s ; border-right: 1px solid #dee2e6 ; border-top: 1px solid #dee2e6 ; border-bottom: 1px solid #dee2e6 ; border-left:.2rem solid #f44336;\">\n",
      "<h3 class=\"alert-heading\"><i class=\"fa fa-pencil\"></i> Distribution des notes par catégorie de produit (🔴)</h3>\n"
     ]
    }
   ],
   "source": [
    "#| echo: false\n",
    "#| output: asis\n",
    "#| eval: true\n",
    "from utils_notebook import create_box_level\n",
    "create_box_level(color = \"🔴\", title = \"Distribution des notes par catégorie de produit (🔴)\")"
   ]
  },
  {
   "cell_type": "markdown",
   "id": "3176f49a",
   "metadata": {},
   "source": [
    "<details>\n",
    "<summary>Dérouler pour révéler les instructions</summary>\n",
    "```\n",
    "\n",
    "Créer une fonction `count_one_variable_sql` prenant un argument nommé `con` (connexion DuckDB),\n",
    "un argument `variable` (par défaut égal à `nova_group`) et un chemin de lecture des données\n",
    "dans le système `S3`.\n",
    "\n",
    "Cette fonction effectue les opérations suivantes:\n",
    "\n",
    "- Créer un `DataFrame` `Pandas` après avoir agrégé les données via `DuckDB` grâce\n",
    "au modèle de requête\n",
    "\n",
    "```python\n",
    "f\"SELECT coicop, {variable} AS note, COUNT({variable}) AS value FROM read_parquet('s3://{path_within_s3}') GROUP BY coicop, {variable}\"\n",
    "```\n",
    "\n",
    "- Crée une variable `variable` égale à la valeur de l'argument `variable`\n",
    "\n",
    "- Créer le `DataFrame` qui combine toutes ces statistiques de la manière suivante\n",
    "en appliquant la fonction de manière répétée :\n",
    "\n",
    "```python\n",
    "grades = [\"nutriscore_grade\", \"ecoscore_grade\", \"nova_group\"]\n",
    "stats_notes_sql = [count_one_variable_sql(con, note, INPUT_OPENFOOD) for note in grades]\n",
    "stats_notes_sql = pd.concat(stats_notes_sql)\n",
    "```\n",
    "\n",
    "```{=html}\n",
    "</details>\n",
    "</div>\n",
    "```\n",
    "\n",
    "<!----- end 🔴 ----->\n",
    ":::"
   ]
  },
  {
   "cell_type": "code",
   "execution_count": 50,
   "id": "4a0ae7b3",
   "metadata": {},
   "outputs": [],
   "source": [
    "# Solution à la voie 🔴 et ⚫ pour les curieux de la voie 🟡, 🟢 et 🔵\n",
    "def count_one_variable_sql(con, variable, path_within_s3 = \"temp.parquet\"):\n",
    "    query = f\"SELECT coicop, {variable} AS note, COUNT({variable}) AS value FROM read_parquet('s3://{path_within_s3}') GROUP BY coicop, {variable}\"\n",
    "    stats_one_variable = con.sql(query).df().dropna()\n",
    "    stats_one_variable['variable'] = variable\n",
    "    stats_one_variable = stats_one_variable.replace('', 'NONE')\n",
    "\n",
    "    return stats_one_variable\n",
    "\n",
    "grades = [\"nutriscore_grade\", \"ecoscore_grade\", \"nova_group\"]\n",
    "stats_notes_sql = [count_one_variable_sql(con, note, INPUT_OPENFOOD) for note in grades]\n",
    "stats_notes_sql = pd.concat(stats_notes_sql)"
   ]
  },
  {
   "cell_type": "markdown",
   "id": "989f8fb6",
   "metadata": {},
   "source": [
    "Ceci nous donne donc le `DataFrame` suivant:"
   ]
  },
  {
   "cell_type": "code",
   "execution_count": 51,
   "id": "2ddcfbef",
   "metadata": {},
   "outputs": [],
   "source": [
    "stats_notes_sql.head(2)"
   ]
  },
  {
   "cell_type": "markdown",
   "id": "dc9123c7",
   "metadata": {},
   "source": [
    "## 2.5. Sauvegarde dans l'espace de stockage distant (🟡,🟢,🔵,🔴,⚫)\n",
    "\n",
    "Ces statistiques descriptives sont à écrire dans l'espace de stockage\n",
    "distant pour ne plus avoir à les calculer. "
   ]
  },
  {
   "cell_type": "code",
   "execution_count": 52,
   "id": "ca321e9b",
   "metadata": {},
   "outputs": [],
   "source": [
    "#| eval: false\n",
    "def write_stats_to_s3(data, destination):\n",
    "    # Ecriture au format parquet sur l'espace de stockage distant\n",
    "    with fs.open(destination, \"wb\") as file_location:\n",
    "        data.to_parquet(file_location)\n",
    "\n",
    "write_stats_to_s3(stats_notes, f\"{config['BUCKET']}{config['DESTINATION_DATA_S3']}/stats_notes_pandas.parquet\")\n",
    "write_stats_to_s3(stats_notes_sql, f\"{config['BUCKET']}{config['DESTINATION_DATA_S3']}/stats_notes_sql.parquet\")"
   ]
  },
  {
   "cell_type": "markdown",
   "id": "d9196579",
   "metadata": {},
   "source": [
    "⚠️ __Il faut avoir modifié la valeur de `BUCKET` dans le fichier `config.yaml` pour\n",
    "que cette commande fonctionne__. \n",
    "\n",
    "\n",
    "\n",
    "## 2.6. Création d'un modèle de graphiques (🟡,🟢,🔵,🔴,⚫)\n",
    "\n",
    "On va utiliser `Plotly` pour créer des graphiques et, ultérieurement,\n",
    "les afficher sur notre page web. Cela permettra d'avoir un peu de\n",
    "réactivité, c'est l'intérêt de faire un format _web_ plutôt qu'une\n",
    "publication figée comme un `PDF`. \n",
    "\n",
    "\n",
    "::: {.cell .markdown}\n",
    "<!----- boite ⚫ ----->\n",
    "\n",
    "```{=html}"
   ]
  },
  {
   "cell_type": "code",
   "execution_count": 53,
   "id": "247399d1",
   "metadata": {},
   "outputs": [
    {
     "name": "stdout",
     "output_type": "stream",
     "text": [
      "<div class=\"alert alert-warning\" role=\"alert\" style=\"color: rgba(0,0,0,.8); background-color: white; margin-top: 1em; margin-bottom: 1em; margin:1.5625emauto; padding:0 .6rem .8rem!important;overflow:hidden; page-break-inside:avoid; border-radius:.25rem; box-shadow:0 .2rem .5rem rgba(0,0,0,.05),0 0 .05rem rgba(0,0,0,.1); transition:color .25s,background-color .25s,border-color .25s ; border-right: 1px solid #dee2e6 ; border-top: 1px solid #dee2e6 ; border-bottom: 1px solid #dee2e6 ; border-left:.2rem solid #424242;\">\n",
      "<h3 class=\"alert-heading\"><i class=\"fa fa-pencil\"></i> Modèle de figure pour les notes (⚫)</h3>\n"
     ]
    }
   ],
   "source": [
    "#| echo: false\n",
    "#| output: asis\n",
    "#| eval: true\n",
    "from utils_notebook import create_box_level\n",
    "create_box_level(color = \"⚫\", title = \"Modèle de figure pour les notes (⚫)\")"
   ]
  },
  {
   "cell_type": "markdown",
   "id": "bb9b670d",
   "metadata": {},
   "source": [
    "<details>\n",
    "<summary>Dérouler pour révéler les instructions</summary>\n",
    "```\n",
    "\n",
    "Créer une fonction standardisée dont l'_output_ est un objet `Plotly` \n",
    "respectant le cahier des charges suivant, pour chaque classe de produit : \n",
    "\n",
    "- Diagramme en barre présentant \n",
    "le nombre de produits ayant telle ou telle note\n",
    "- Prévoir un argument pour mettre en surbrillance une valeur donnée\n",
    "(par exemple la note `B`). \n",
    "- Prévoir un argument pour le titre du graphique\n",
    "\n",
    "```{=html}\n",
    "</details>\n",
    "</div>\n",
    "```\n",
    "\n",
    "<!----- end ⚫ ----->\n",
    ":::\n",
    "\n",
    "\n",
    "::: {.cell .markdown}\n",
    "<!----- boite 🔴 ----->\n",
    "\n",
    "```{=html}"
   ]
  },
  {
   "cell_type": "code",
   "execution_count": 54,
   "id": "534189de",
   "metadata": {},
   "outputs": [
    {
     "name": "stdout",
     "output_type": "stream",
     "text": [
      "<div class=\"alert alert-warning\" role=\"alert\" style=\"color: rgba(0,0,0,.8); background-color: white; margin-top: 1em; margin-bottom: 1em; margin:1.5625emauto; padding:0 .6rem .8rem!important;overflow:hidden; page-break-inside:avoid; border-radius:.25rem; box-shadow:0 .2rem .5rem rgba(0,0,0,.05),0 0 .05rem rgba(0,0,0,.1); transition:color .25s,background-color .25s,border-color .25s ; border-right: 1px solid #dee2e6 ; border-top: 1px solid #dee2e6 ; border-bottom: 1px solid #dee2e6 ; border-left:.2rem solid #f44336;\">\n",
      "<h3 class=\"alert-heading\"><i class=\"fa fa-pencil\"></i> Modèle de figure pour les notes (🔴)</h3>\n"
     ]
    }
   ],
   "source": [
    "#| echo: false\n",
    "#| output: asis\n",
    "#| eval: true\n",
    "from utils_notebook import create_box_level\n",
    "create_box_level(color = \"🔴\", title = \"Modèle de figure pour les notes (🔴)\")"
   ]
  },
  {
   "cell_type": "markdown",
   "id": "b3dfcce3",
   "metadata": {},
   "source": [
    "<details>\n",
    "<summary>Dérouler pour révéler les instructions</summary>\n",
    "```\n",
    "\n",
    "Créer une fonction standardisée dont les arguments sont\n",
    "\n",
    "- Un jeu de données nommé `data`\n",
    "- Une caractéristique nutritionnelle nommée `variable_note` par défaut égale à `nutriscore_grade`\n",
    "- Une catégorie nommée `coicop`, par défaut égale à `01.1.7.3.2`\n",
    "- Une note pour le produit dans une variable nommée `note_produit` par défaut égal à `B`\n",
    "- Un titre par défaut égal à `Nutriscore`\n",
    "\n",
    "Cette fonction effectue les tâches suivantes:\n",
    "\n",
    "- Ne conserver, dans notre ensemble de valeurs agrégées, que celles relatives à la COICOP et\n",
    "à la caractéristique nutritionnelle qu'on recherche ;\n",
    "- Représenter sous forme de diagramme en barre les valeurs nutritionnelles pour chaque décile de la \n",
    "distribution avec, en rouge, celle de notre produit (`valeur_produit`)\n",
    "- N'hésitez pas à utiliser les options de `Plotly` pour personnaliser la figure\n",
    "\n",
    "```{=html}\n",
    "</details>\n",
    "</div>\n",
    "```\n",
    "\n",
    "<!----- end 🔴 ----->\n",
    ":::\n",
    "\n",
    "::: {.cell .markdown}\n",
    "<!----- boite 🔵 ----->\n",
    "\n",
    "```{=html}"
   ]
  },
  {
   "cell_type": "code",
   "execution_count": 55,
   "id": "e31fefa5",
   "metadata": {},
   "outputs": [
    {
     "name": "stdout",
     "output_type": "stream",
     "text": [
      "<div class=\"alert alert-warning\" role=\"alert\" style=\"color: rgba(0,0,0,.8); background-color: white; margin-top: 1em; margin-bottom: 1em; margin:1.5625emauto; padding:0 .6rem .8rem!important;overflow:hidden; page-break-inside:avoid; border-radius:.25rem; box-shadow:0 .2rem .5rem rgba(0,0,0,.05),0 0 .05rem rgba(0,0,0,.1); transition:color .25s,background-color .25s,border-color .25s ; border-right: 1px solid #dee2e6 ; border-top: 1px solid #dee2e6 ; border-bottom: 1px solid #dee2e6 ; border-left:.2rem solid #1976d2;\">\n",
      "<h3 class=\"alert-heading\"><i class=\"fa fa-pencil\"></i> Modèle de figure pour les notes (🔵)</h3>\n"
     ]
    }
   ],
   "source": [
    "#| echo: false\n",
    "#| output: asis\n",
    "#| eval: true\n",
    "from utils_notebook import create_box_level\n",
    "create_box_level(color = \"🔵\", title = \"Modèle de figure pour les notes (🔵)\")"
   ]
  },
  {
   "cell_type": "markdown",
   "id": "535bd2ca",
   "metadata": {},
   "source": [
    "<details>\n",
    "<summary>Dérouler pour révéler les instructions</summary>\n",
    "```\n",
    "\n",
    "Pour préparer cet exercice, créer les objets suivants:\n",
    "\n",
    "```python\n",
    "data = stats_nutritionnelles.copy()\n",
    "variable_note = 'nutriscore_grade'\n",
    "coicop = \"01.1.7.3.2\"\n",
    "note_produit = \"B\"\n",
    "titre = \"Nutriscore\"\n",
    "```\n",
    "\n",
    "1. Ne conserver que les observations où `data['variable']` est égale à la valeur `variable_note`\n",
    "et où la variable `coicop` est égale à la valeur `coicop`. A l'issue de ces\n",
    "filtres, nommer le dataframe obtenu `example_coicop`\n",
    "2. Créer une \n",
    "colonne stockant les couleurs de notre graphique. Nommer cette variable `color`.\n",
    "3. Créer un diagramme en barre avec:\n",
    "        + sur l'axe des _x_ les quantiles\n",
    "        + sur l'axe des _y_, la valeur à représenter\n",
    "        + la couleur à partir de la variable `color`\n",
    "        + Les _labels_ : pour l'axe des _x_ ne rien mettre et pour l'axe des _y_ : _\"Note\"_\n",
    "        + Masquer la légende\n",
    "        + Le titre à partir de la variable `titre` \n",
    "4. Encapsuler ce code dans une fonction nommée `figure_infos_notes` dont les arguments\n",
    "sont les variables précédemment crées.\n",
    "\n",
    "```{=html}\n",
    "</details>\n",
    "</div>\n",
    "```\n",
    "\n",
    "<!----- end 🔵 ----->\n",
    ":::\n",
    "\n",
    "::: {.cell .markdown}\n",
    "<!----- boite 🟢 ----->\n",
    "\n",
    "```{=html}"
   ]
  },
  {
   "cell_type": "code",
   "execution_count": 56,
   "id": "7ff96a6a",
   "metadata": {},
   "outputs": [
    {
     "name": "stdout",
     "output_type": "stream",
     "text": [
      "<div class=\"alert alert-warning\" role=\"alert\" style=\"color: rgba(0,0,0,.8); background-color: white; margin-top: 1em; margin-bottom: 1em; margin:1.5625emauto; padding:0 .6rem .8rem!important;overflow:hidden; page-break-inside:avoid; border-radius:.25rem; box-shadow:0 .2rem .5rem rgba(0,0,0,.05),0 0 .05rem rgba(0,0,0,.1); transition:color .25s,background-color .25s,border-color .25s ; border-right: 1px solid #dee2e6 ; border-top: 1px solid #dee2e6 ; border-bottom: 1px solid #dee2e6 ; border-left:.2rem solid #7cb342;\">\n",
      "<h3 class=\"alert-heading\"><i class=\"fa fa-pencil\"></i> Modèle de figure pour les notes (🟢)</h3>\n"
     ]
    }
   ],
   "source": [
    "#| echo: false\n",
    "#| output: asis\n",
    "#| eval: true\n",
    "from utils_notebook import create_box_level\n",
    "create_box_level(color = \"🟢\", title = \"Modèle de figure pour les notes (🟢)\")"
   ]
  },
  {
   "cell_type": "markdown",
   "id": "3669f330",
   "metadata": {},
   "source": [
    "<details>\n",
    "<summary>Dérouler pour révéler les instructions</summary>\n",
    "```\n",
    "\n",
    "Pour préparer cet exercice, créer les objets suivants:\n",
    "\n",
    "```python\n",
    "data = stats_nutritionnelles.copy()\n",
    "variable_note = 'nutriscore_grade'\n",
    "coicop = \"01.1.7.3.2\"\n",
    "note_produit = \"B\"\n",
    "titre = \"Nutriscore\"\n",
    "```\n",
    "\n",
    "1. Utiliser la méthode [`loc`](https://pandas.pydata.org/docs/reference/api/pandas.DataFrame.loc.html)\n",
    "pour ne conserver que les observations où `data['variable']` est égale à la valeur `variable_note`\n",
    "et où la variable `coicop` est égale à la valeur `coicop` (qu'on a fixé à `\"01.1.7.3.2\"`). A l'issue de ces\n",
    "filtres, nommer le dataframe obtenu `example_coicop`\n",
    "2. Utiliser [`np.where`](https://numpy.org/doc/stable/reference/generated/numpy.where.html) pour créer une \n",
    "colonne stockant les couleurs de notre graphique. On utilisera le rouge (_red_) lorsque la variable quantile\n",
    "est égale à `note_produit` et du bleu (_royalblue_) sinon. Nommer cette variable `color`.\n",
    "3. Créer un diagramme en barre avec:\n",
    "        + sur l'axe des _x_ les notes (stockés dans la variable `note`)\n",
    "        + sur l'axe des _y_, la valeur à représenter (stockée dans la variable `value`)\n",
    "        + la couleur à partir de la variable `color`\n",
    "        + Les _labels_ : pour l'axe des _x_ ne rien mettre et pour l'axe des _y_ : _\"Note\"_\n",
    "        + Masquer la légende via l'argument `showlegend` de la méthode `update_layout` \n",
    "        + Le titre à partir de la variable `titre` \n",
    "4. Encapsuler ce code dans une fonction nommée `figure_infos_nutritionnelles` dont les arguments\n",
    "sont `data`, `variable_nutritionnelle = 'nutriscore_grade'`, `coicop = \"01.1.7.3.2\"` et `valeur_produit = \"B\"`.\n",
    "\n",
    "```{=html}\n",
    "</details>\n",
    "</div>\n",
    "```\n",
    "\n",
    "<!----- end 🟢 ----->\n",
    ":::\n",
    "\n",
    "Voici un exemple de fonction qui répond aux \n",
    "cahiers des charges ci-dessus:"
   ]
  },
  {
   "cell_type": "code",
   "execution_count": 57,
   "id": "1b963c45",
   "metadata": {},
   "outputs": [],
   "source": [
    "# Solution pour voie 🟡\n",
    "\n",
    "import plotly.express as px\n",
    "import numpy as np\n",
    "\n",
    "def figure_infos_notes(\n",
    "    data, variable_note = 'nutriscore_grade',\n",
    "    coicop = \"01.1.7.3.2\", note_produit = \"B\",\n",
    "    title = \"Nutriscore\"\n",
    "):\n",
    "    example_coicop = data.loc[data['variable'] == variable_note]\n",
    "    example_coicop = example_coicop.loc[example_coicop['coicop']==coicop]\n",
    "    example_coicop['color'] = np.where(example_coicop['note'] == note_produit, \"Note du produit\", \"Autres produits\")\n",
    "\n",
    "    fig = px.bar(\n",
    "        example_coicop,\n",
    "        x='note', y='value', color = \"color\", template = \"simple_white\",\n",
    "        title=title,\n",
    "        color_discrete_map={\"Note produit\": \"red\", \"Autres produits\": \"royalblue\"},\n",
    "        labels={\n",
    "            \"note\": \"Note\",\n",
    "            \"value\": \"\"\n",
    "        }\n",
    "    )\n",
    "    fig.update_xaxes(\n",
    "        categoryorder='array',\n",
    "        categoryarray= ['A', 'B', 'C', 'D', 'E'])\n",
    "    fig.update_layout(showlegend=False)\n",
    "    fig.update_layout(hovermode=\"x\")\n",
    "    fig.update_traces(\n",
    "        hovertemplate=\"<br>\".join([\n",
    "            \"Note %{x}\",\n",
    "            f\"{variable_note}: \" +\" %{y} produits\"\n",
    "        ])\n",
    "    )\n",
    "\n",
    "    return fig"
   ]
  },
  {
   "cell_type": "markdown",
   "id": "49f44006",
   "metadata": {},
   "source": [
    "Voici un exemple d'utilisation"
   ]
  },
  {
   "cell_type": "code",
   "execution_count": 58,
   "id": "3a602d29",
   "metadata": {},
   "outputs": [],
   "source": [
    "#| output: false\n",
    "from utils.construct_figures import figure_infos_notes\n",
    "fig = figure_infos_notes(stats_notes)\n",
    "fig.update_layout(width=800, height=400)\n",
    "\n",
    "fig"
   ]
  },
  {
   "cell_type": "markdown",
   "id": "cd5aa6ad",
   "metadata": {},
   "source": [
    "# 3️⃣ Comparer un produit à un groupe similaire\n",
    "\n",
    "Tout ce travail préliminaire nous permettra d'afficher sur notre application des statistiques\n",
    "propres à chaque catégorie.\n",
    "\n",
    "On propose d'utiliser le jeu de données préparé précedemment"
   ]
  },
  {
   "cell_type": "code",
   "execution_count": 59,
   "id": "51dd5c6e",
   "metadata": {},
   "outputs": [],
   "source": [
    "indices_synthetiques = [\n",
    "    \"nutriscore_grade\", \"ecoscore_grade\", \"nova_group\"\n",
    "]\n",
    "principales_infos = ['product_name', 'code', 'preprocessed_labels', 'coicop']\n",
    "liste_colonnes = principales_infos + indices_synthetiques\n",
    "liste_colonnes_sql = [f\"\\\"{s}\\\"\" for s in liste_colonnes]\n",
    "liste_colonnes_sql = ', '.join(liste_colonnes_sql)"
   ]
  },
  {
   "cell_type": "markdown",
   "id": "b5527697",
   "metadata": {},
   "source": [
    "On va aussi utiliser la nomenclature COICOP qui peut être importée\n",
    "via le code ci-dessous:"
   ]
  },
  {
   "cell_type": "code",
   "execution_count": 60,
   "id": "e7d3ae1f",
   "metadata": {},
   "outputs": [],
   "source": [
    "from utils.download_pb import import_coicop_labels\n",
    "coicop = import_coicop_labels(\n",
    "    \"https://www.insee.fr/fr/statistiques/fichier/2402696/coicop2016_liste_n5.xls\"\n",
    ")"
   ]
  },
  {
   "cell_type": "markdown",
   "id": "c432875d",
   "metadata": {},
   "source": [
    "## 3.1. Détection de code barre (🟡,🟢,🔵,🔴,⚫)\n",
    "\n",
    "La première brique de notre application consiste à repérer un produit par le scan du code-barre. \n",
    "Nous allons partir pour le moment d'un produit d'exemple, ci-dessous: \n",
    "\n",
    "![](https://images.openfoodfacts.org/images/products/500/011/260/2791/front_fr.4.400.jpg)"
   ]
  },
  {
   "cell_type": "code",
   "execution_count": 61,
   "id": "3e49a21a",
   "metadata": {},
   "outputs": [],
   "source": [
    "url_image = \"https://images.openfoodfacts.org/images/products/500/011/260/2791/front_fr.4.400.jpg\""
   ]
  },
  {
   "cell_type": "markdown",
   "id": "2fd4b514",
   "metadata": {},
   "source": [
    "Dans le cadre de notre application, on permettra aux utilisateurs d'_uploader_ \n",
    "la photo d'un produit, ce sera plus _fun_.\n",
    "En attendant notre application,\n",
    "partir d'un produit standardisé\n",
    "permet déjà de mettre en oeuvre la logique à ré-appliquer plus tard. \n",
    "\n",
    "Pour se simplifier la vie, le plus simple pour repérer un code-barre est d'utiliser\n",
    "le _package_ [`pyzbar`](https://pypi.org/project/pyzbar/).\n",
    "Pour transformer une image en\n",
    "matrice `Numpy` (l'objet attendu par [`pyzbar`](https://pypi.org/project/pyzbar/)),\n",
    "on peut utiliser le module `skimage` de la manière suivante:"
   ]
  },
  {
   "cell_type": "code",
   "execution_count": 62,
   "id": "f17368f5",
   "metadata": {},
   "outputs": [],
   "source": [
    "from skimage import io\n",
    "io.imread(url_image)"
   ]
  },
  {
   "cell_type": "markdown",
   "id": "08d5da51",
   "metadata": {},
   "source": [
    "Grâce à `sklearn.image`, on peut utiliser\n",
    "l'URL d'une page web ou le chemin d'un fichier de manière indifférente\n",
    "pour la valeur de `url_image`. \n",
    "\n",
    "\n",
    "::: {.cell .markdown}\n",
    "<!----- boite 🟢🔵🔴 et ⚫ ----->\n",
    "\n",
    "```{=html}"
   ]
  },
  {
   "cell_type": "code",
   "execution_count": 63,
   "id": "0f79674c",
   "metadata": {},
   "outputs": [
    {
     "name": "stdout",
     "output_type": "stream",
     "text": [
      "<div class=\"alert alert-warning\" role=\"alert\" style=\"color: rgba(0,0,0,.8); background-color: white; margin-top: 1em; margin-bottom: 1em; margin:1.5625emauto; padding:0 .6rem .8rem!important;overflow:hidden; page-break-inside:avoid; border-radius:.25rem; box-shadow:0 .2rem .5rem rgba(0,0,0,.05),0 0 .05rem rgba(0,0,0,.1); transition:color .25s,background-color .25s,border-color .25s ; border-right: 1px solid #dee2e6 ; border-top: 1px solid #dee2e6 ; border-bottom: 1px solid #dee2e6 ; border-left:.2rem solid #9c9797;\">\n",
      "<h3 class=\"alert-heading\"><i class=\"fa fa-pencil\"></i> Extraire le code-barre à partir d'une image (🟢🔵🔴 et ⚫)</h3>\n"
     ]
    }
   ],
   "source": [
    "#| echo: false\n",
    "#| output: asis\n",
    "#| eval: true\n",
    "from utils_notebook import create_box_level\n",
    "create_box_level(color = \"grey\", title = \"Extraire le code-barre à partir d'une image (🟢🔵🔴 et ⚫)\")"
   ]
  },
  {
   "cell_type": "markdown",
   "id": "1bc41b7c",
   "metadata": {},
   "source": [
    "<details>\n",
    "<summary>Dérouler pour révéler les instructions</summary>\n",
    "```\n",
    "\n",
    "1. Après avoir importé l'image via `io.imread`, utiliser `pyzbar.decode`\n",
    "pour extraire les informations voulues, notamment le code-barre. \n",
    "2. Si vous avez nommé l'objet généré, vérifier le code-barre avec\n",
    "`obj[0].data.decode()`.\n",
    "3. A partir de cela, créer une fonction `extract_ean` pour décoder l'image\n",
    "(en retournant l'objet généré par `pyzbar`)\n",
    "\n",
    "```{=html}\n",
    "</details>\n",
    "</div>\n",
    "```\n",
    "\n",
    "<!----- end 🟢🔵🔴 et ⚫ ----->\n",
    ":::"
   ]
  },
  {
   "cell_type": "code",
   "execution_count": 64,
   "id": "get-openfood-parquet",
   "metadata": {},
   "outputs": [],
   "source": [
    "#| classes: yellow-code\n",
    "#| label: get-openfood-parquet\n",
    "#| output: false\n",
    "#| eval: false\n",
    "# Solution pour voie 🟡\n",
    "from pyzbar import pyzbar\n",
    "\n",
    "def extract_ean(url, verbose=True):\n",
    "    img = io.imread(url)\n",
    "    decoded_objects = pyzbar.decode(img)\n",
    "    if verbose is True:\n",
    "        for obj in decoded_objects:\n",
    "            # draw the barcode\n",
    "            print(\"detected barcode:\", obj)\n",
    "            # print barcode type & data\n",
    "            print(\"Type:\", obj.type)\n",
    "            print(\"Data:\", obj.data)\n",
    "    return decoded_objects\n",
    "\n",
    "obj = extract_ean(url_image, verbose = False)\n",
    "\n",
    "obj[0].data.decode()"
   ]
  },
  {
   "cell_type": "code",
   "execution_count": 65,
   "id": "3946ee56",
   "metadata": {},
   "outputs": [],
   "source": [
    "#| echo: false\n",
    "from utils.detect_barcode import extract_ean\n",
    "extract_ean(url_image)"
   ]
  },
  {
   "cell_type": "markdown",
   "id": "8c68771d",
   "metadata": {},
   "source": [
    "On obtient bien un code identifiant notre produit. Il s'agit\n",
    "de l'EAN qui est un identifiant unique, partagé quelque soit\n",
    "le point de vente d'un produit. Il s'agit d'un identifiant\n",
    "présent sur tout code-barre, utilisé \n",
    "dans les systèmes d'information \n",
    "des grandes enseignes mais aussi dans les bases produits\n",
    "qui peuvent être utilisées de manière annexe (par exemple\n",
    "l'`OpenFoodFacts`). \n",
    "\n",
    "\n",
    "## 3.2. Association d'un code barre à un produit d'`OpenFoodFacts` (🟡,🟢,🔵,🔴,⚫)\n",
    "\n",
    "Maintenant qu'on dispose d'un code-barre (le numéro EAN), \n",
    "on va trouver le produit dans `OpenFoodFacts`\n",
    "à partir de ce code-barre.\n",
    "\n",
    "Cependant, comme il peut arriver\n",
    "qu'un produit dispose d'informations incomplètes, \n",
    "il peut être utile de faire non seulement de l'appariement\n",
    "exact (trouver le produit avec le même code EAN) mais aussi de\n",
    "l'appariement flou (trouver un produit avec un nom proche de celui qu'on\n",
    "veut).\n",
    "\n",
    "Ceci est un exercice pour les parcours 🔴 et ⚫, les autres\n",
    "voies pouvant prendre cette fonction comme donnée. \n",
    "\n",
    "Pour aller plus loin sur cette question des appariements\n",
    "flous, il pourrait être utile d'aller\n",
    "vers `ElasticSearch`. C'est néanmoins un sujet en soi, \n",
    "nous proposons donc aux curieux de\n",
    "consulter [cette ressource](https://pythonds.linogaliana.fr/elastic/).\n",
    "\n",
    "Voici l'EAN d'exemple :"
   ]
  },
  {
   "cell_type": "code",
   "execution_count": 66,
   "id": "beefb0db",
   "metadata": {},
   "outputs": [],
   "source": [
    "ean = \"5000112602999\""
   ]
  },
  {
   "cell_type": "markdown",
   "id": "161055c5",
   "metadata": {},
   "source": [
    "Pour avoir un outil performant, on propose d'utiliser\n",
    "`DuckDB` pour lire et filtrer les données. Cela sera plus performant que \n",
    "lire, à chaque fois que l'utilisateur de notre application _upload_ une image,\n",
    "un gros fichier (2 millions de ligne) pour n'en garder qu'une. \n",
    "\n",
    "Voici la configuration à mettre en oeuvre:"
   ]
  },
  {
   "cell_type": "code",
   "execution_count": 67,
   "id": "67dc57a9",
   "metadata": {},
   "outputs": [],
   "source": [
    "import duckdb\n",
    "con = duckdb.connect(database=':memory:')\n",
    "con.execute(\"\"\"\n",
    "    INSTALL httpfs;\n",
    "    LOAD httpfs;\n",
    "    SET s3_endpoint='minio.lab.sspcloud.fr'\n",
    "\"\"\")\n",
    "\n",
    "url_data = \"https://projet-funathon.minio.lab.sspcloud.fr/2023/sujet4/diffusion/openfood.parquet\""
   ]
  },
  {
   "cell_type": "markdown",
   "id": "d6b1fc18",
   "metadata": {},
   "source": [
    "Pour commencer, effectuons une requête SQL pour récupérer le produit\n",
    "correspondant au code-barre qu'on a scanné:\n",
    "\n",
    "\n",
    "::: {.cell .markdown}\n",
    "<!----- boite 🟢🔵 ----->\n",
    "\n",
    "```{=html}"
   ]
  },
  {
   "cell_type": "code",
   "execution_count": 68,
   "id": "fdc007f4",
   "metadata": {},
   "outputs": [
    {
     "name": "stdout",
     "output_type": "stream",
     "text": [
      "<div class=\"alert alert-warning\" role=\"alert\" style=\"color: rgba(0,0,0,.8); background-color: white; margin-top: 1em; margin-bottom: 1em; margin:1.5625emauto; padding:0 .6rem .8rem!important;overflow:hidden; page-break-inside:avoid; border-radius:.25rem; box-shadow:0 .2rem .5rem rgba(0,0,0,.05),0 0 .05rem rgba(0,0,0,.1); transition:color .25s,background-color .25s,border-color .25s ; border-right: 1px solid #dee2e6 ; border-top: 1px solid #dee2e6 ; border-bottom: 1px solid #dee2e6 ; border-left:.2rem solid #9c9797;\">\n",
      "<h3 class=\"alert-heading\"><i class=\"fa fa-pencil\"></i> Lire les données avec <code>DuckDB</code> (🟢 et 🔵)</h3>\n"
     ]
    }
   ],
   "source": [
    "#| echo: false\n",
    "#| output: asis\n",
    "#| eval: true\n",
    "from utils_notebook import create_box_level\n",
    "create_box_level(color = \"grey\", title = \"Lire les données avec <code>DuckDB</code> (🟢 et 🔵)\")"
   ]
  },
  {
   "cell_type": "markdown",
   "id": "8feb6b06",
   "metadata": {},
   "source": [
    "<details>\n",
    "<summary>Dérouler pour révéler les instructions</summary>\n",
    "\n",
    "Pour exécuter une requête SQL, on utilise la structure suivante avec `DuckDB`\n",
    "\n",
    "```python\n",
    "data_pandas_from_duckdb = con.sql(REQUETE).df()\n",
    "```\n",
    "\n",
    "La requête que nous proposons d'utiliser est à structurer à partir des éléments suivants :\n",
    "\n",
    "- Pour la clause `SELECT`, la liste des colonnes à utiliser est pré-formattée dans l'objet `liste_colonnes_sql`\n",
    "- Pour la clause `FROM`, l'instruction `read_parquet` peut être utilisée avec l'URL stocké dans `url_data`\n",
    "- Pour la clause `WHERE`, vous pouvez utiliser la syntaxe suivante pour normaliser les code-barres des deux côtés en retirant les \n",
    "0 initiaux: `CAST(ltrim(code, '0') AS STRING) = CAST(ltrim({ean}) AS STRING)`\n",
    "\n",
    "```{=html}\n",
    "</details>\n",
    "</div>\n",
    "```\n",
    "\n",
    "<!----- end 🟢🔵 ----->\n",
    ":::\n",
    "\n",
    "::: {.cell .markdown}\n",
    "<!----- boite 🔴 et ⚫ ----->\n",
    "\n",
    "```{=html}"
   ]
  },
  {
   "cell_type": "code",
   "execution_count": 69,
   "id": "9b196037",
   "metadata": {},
   "outputs": [
    {
     "name": "stdout",
     "output_type": "stream",
     "text": [
      "<div class=\"alert alert-warning\" role=\"alert\" style=\"color: rgba(0,0,0,.8); background-color: white; margin-top: 1em; margin-bottom: 1em; margin:1.5625emauto; padding:0 .6rem .8rem!important;overflow:hidden; page-break-inside:avoid; border-radius:.25rem; box-shadow:0 .2rem .5rem rgba(0,0,0,.05),0 0 .05rem rgba(0,0,0,.1); transition:color .25s,background-color .25s,border-color .25s ; border-right: 1px solid #dee2e6 ; border-top: 1px solid #dee2e6 ; border-bottom: 1px solid #dee2e6 ; border-left:.2rem solid #9c9797;\">\n",
      "<h3 class=\"alert-heading\"><i class=\"fa fa-pencil\"></i> Lire les données avec <code>DuckDB</code> (🔴 et ⚫)</h3>\n"
     ]
    }
   ],
   "source": [
    "#| echo: false\n",
    "#| output: asis\n",
    "#| eval: true\n",
    "from utils_notebook import create_box_level\n",
    "create_box_level(color = \"grey\", title = \"Lire les données avec <code>DuckDB</code> (🔴 et ⚫)\")"
   ]
  },
  {
   "cell_type": "markdown",
   "id": "023ba7e0",
   "metadata": {},
   "source": [
    "<details>\n",
    "<summary>Dérouler pour révéler les instructions</summary>\n",
    "\n",
    "La requête que nous proposons d'utiliser est à structurer à partir des éléments suivants :\n",
    "\n",
    "- Ne garder que les variables présentes dans `liste_colonnes_sql`\n",
    "- Lire les données directement depuis `url_data`\n",
    "- Filtrer les données pour ne garder que celle dans l'OpenFood avec notre code-barre\n",
    "\n",
    "Aide pour la voie 🔴\n",
    "\n",
    "Il faut normaliser les code-barres des deux côtés avant d'essayer\n",
    "de comparer. Cela se fait de la manière suivante: `CAST(ltrim({ean}) AS STRING)`\n",
    "A vous de mettre en oeuvre cela pour faire de la comparaison entre notre EAN et la\n",
    "variable `code`.\n",
    "\n",
    "\n",
    "\n",
    "```{=html}\n",
    "</details>\n",
    "</div>\n",
    "```\n",
    "\n",
    "<!----- end 🔴 et ⚫ ----->\n",
    ":::\n",
    "\n",
    "Voici la solution:"
   ]
  },
  {
   "cell_type": "code",
   "execution_count": 70,
   "id": "4a50839a",
   "metadata": {},
   "outputs": [],
   "source": [
    "# Solution pour voie 🟡\n",
    "def get_product_ean(con, ean, url_data, liste_colonnes_sql):\n",
    "    openfood_produit = con.sql(\n",
    "            f\"SELECT {liste_colonnes_sql} FROM read_parquet('{url_data}') WHERE CAST(ltrim(code, '0') AS STRING) = CAST(ltrim({ean}) AS STRING)\"\n",
    "        ).df()\n",
    "    return openfood_produit"
   ]
  },
  {
   "cell_type": "markdown",
   "id": "18f69530",
   "metadata": {},
   "source": [
    "On va néanmoins intégrer ceci dans un _pipeline_ plus général:\n",
    "\n",
    "1. On cherche le produit à partir du code barre\n",
    "2. Si les infos sont manquantes, on récupère les produits dont le nom ressemble par distance de Jaro-Winkler. \n",
    "\n",
    "Voici la fonction qui permet d'implémenter la deuxième partie:"
   ]
  },
  {
   "cell_type": "code",
   "execution_count": 71,
   "id": "53aa88e1",
   "metadata": {},
   "outputs": [],
   "source": [
    "# Solution pour voie 🟡\n",
    "\n",
    "import numpy as np\n",
    "import pandas as pd\n",
    "from utils.pipeline import clean_note\n",
    "\n",
    "def fuzzy_matching_product(openfood_produit, product_name, con, url_data, liste_colonnes_sql, indices_synthetiques):\n",
    "    out_textual = con.sql(f\"SELECT {liste_colonnes_sql} from read_parquet('{url_data}') WHERE jaro_winkler_similarity('{product_name}',product_name) > 0.9 AND \\\"energy-kcal_100g\\\" IS NOT NULL\")\n",
    "    out_textual = out_textual.df()\n",
    "\n",
    "    out_textual_imputed = pd.concat(\n",
    "        [\n",
    "            openfood_produit.loc[:, [\"code\", \"product_name\", \"coicop\"]].reset_index(drop = True),\n",
    "            pd.DataFrame(out_textual.loc[:, indices_synthetiques].replace(\"NONE\",\"\").replace('',np.nan).mode(dropna=True))\n",
    "        ], ignore_index=True, axis=1\n",
    "    )\n",
    "    out_textual_imputed.columns = [\"code\", \"product_name\", \"coicop\"] + indices_synthetiques\n",
    "    \n",
    "    return out_textual_imputed"
   ]
  },
  {
   "cell_type": "markdown",
   "id": "0c96e34b",
   "metadata": {},
   "source": [
    "Voici finalement le _pipeline_ mis en oeuvre\n",
    "par une fonction : "
   ]
  },
  {
   "cell_type": "code",
   "execution_count": 72,
   "id": "479648c3",
   "metadata": {},
   "outputs": [],
   "source": [
    "# Solution pour voie 🟡\n",
    "\n",
    "def find_product_openfood(con, liste_colonnes_sql, url_data, ean):\n",
    "    openfood_produit = con.sql(\n",
    "        f\"SELECT {liste_colonnes_sql} FROM read_parquet('{url_data}') WHERE CAST(ltrim(code, '0') AS STRING) = CAST(ltrim({ean}) AS STRING)\"\n",
    "    ).df()\n",
    "    \n",
    "    product_name = openfood_produit[\"product_name\"].iloc[0]\n",
    "    \n",
    "    if openfood_produit['nutriscore_grade'].isin(['NONE','']).iloc[0]:\n",
    "        openfood_produit = fuzzy_matching_product(\n",
    "            openfood_produit, product_name, con, url_data,\n",
    "            liste_colonnes_sql, indices_synthetiques)\n",
    "        openfood_produit = openfood_produit.merge(coicop, left_on = \"coicop\", right_on = \"Code\")\n",
    "\n",
    "    return openfood_produit"
   ]
  },
  {
   "cell_type": "markdown",
   "id": "8569bc20",
   "metadata": {},
   "source": [
    "Qui peut être finalisé de la manière suivante:"
   ]
  },
  {
   "cell_type": "code",
   "execution_count": 73,
   "id": "2f3f208d",
   "metadata": {},
   "outputs": [],
   "source": [
    "openfood_produit = find_product_openfood(\n",
    "    con, liste_colonnes_sql,\n",
    "    url_data, ean\n",
    ")\n",
    "openfood_produit.head(2)"
   ]
  },
  {
   "cell_type": "markdown",
   "id": "918373f7",
   "metadata": {},
   "source": [
    "## Production automatique d'un graphique (🟡,🟢,🔵,🔴,⚫)\n",
    "\n",
    "La dernière partie du prototypage\n",
    "consiste à enrober nos\n",
    "fonctions de production de graphiques\n",
    "dans une fonction plus générique. \n",
    "\n",
    "Pour rappel, l'import des données\n",
    "se fait de la manière suivante:"
   ]
  },
  {
   "cell_type": "code",
   "execution_count": 74,
   "id": "8544ac99",
   "metadata": {},
   "outputs": [],
   "source": [
    "stats_notes = pd.read_parquet(\n",
    "    \"https://minio.lab.sspcloud.fr/projet-funathon/2023/sujet4/diffusion/stats_notes_pandas.parquet\"\n",
    ")"
   ]
  },
  {
   "cell_type": "markdown",
   "id": "f8941830",
   "metadata": {},
   "source": [
    "Dans notre application, nous allons utiliser cette fonction:"
   ]
  },
  {
   "cell_type": "code",
   "execution_count": 75,
   "id": "5fb302e0",
   "metadata": {},
   "outputs": [],
   "source": [
    "from utils.construct_figures import figure_infos_notes\n",
    "\n",
    "variable = 'nutriscore_grade'\n",
    "\n",
    "def plot_product_info(\n",
    "    data, variable,\n",
    "    stats_notes):\n",
    "\n",
    "    fig = figure_infos_notes(\n",
    "        stats_notes,\n",
    "        variable_note = variable,\n",
    "        coicop = data['coicop'].iloc[0],\n",
    "        note_produit = data[variable].iloc[0],\n",
    "        title = variable.split(\"_\")[0].capitalize()\n",
    "    )\n",
    "\n",
    "    return fig"
   ]
  },
  {
   "cell_type": "code",
   "execution_count": 76,
   "id": "f0d82369",
   "metadata": {},
   "outputs": [],
   "source": [
    "#| output: false\n",
    "fig = plot_product_info(openfood_produit, variable, stats_notes)\n",
    "fig.update_layout(width=800, height=400)\n",
    "fig"
   ]
  },
  {
   "cell_type": "code",
   "execution_count": 77,
   "id": "83367aea",
   "metadata": {},
   "outputs": [],
   "source": [
    "#| output: false\n",
    "fig = plot_product_info(openfood_produit, \"ecoscore_grade\", stats_notes)\n",
    "fig.update_layout(width=800, height=400)\n",
    "fig"
   ]
  },
  {
   "cell_type": "markdown",
   "id": "365eeccc",
   "metadata": {},
   "source": [
    "# 4️⃣ Construire une application interactive\n",
    "\n",
    "Cette partie vise à assembler les briques précédentes afin de les rendre facilement accessibles à un utilisateur final.\n",
    "Pour cela, nous allons construire une application interactive à l'aide du framework `Streamlit` en `Python`.\n",
    "\n",
    "L'objectif est de créer une application sur le modèle de [myyuka.lab.sspcloud.fr/](https://myyuka.lab.sspcloud.fr/).\n",
    "Voici une petite vidéo de démonstration de l'application:\n"
   ]
  },
  {
   "cell_type": "code",
   "execution_count": 78,
   "id": "091ef61d",
   "metadata": {},
   "outputs": [
    {
     "data": {
      "text/html": [
       "\n",
       "    <video width=\"520\" height=\"240\" alt=\"test\" controls>\n",
       "        <source src=\"https://minio.lab.sspcloud.fr/projet-funathon/2023/sujet4/diffusion/video_out.webm\" type=\"video/mp4\">\n",
       "    </video>\n"
      ],
      "text/plain": [
       "<IPython.core.display.HTML object>"
      ]
     },
     "execution_count": 30,
     "metadata": {},
     "output_type": "execute_result"
    }
   ],
   "source": [
    "#| eval: true\n",
    "from IPython.display import HTML\n",
    "HTML(\"\"\"\n",
    "    <video width=\"520\" height=\"240\" alt=\"test\" controls>\n",
    "        <source src=\"https://minio.lab.sspcloud.fr/projet-funathon/2023/sujet4/diffusion/video_out.webm\" type=\"video/mp4\">\n",
    "    </video>\n",
    "\"\"\")"
   ]
  },
  {
   "cell_type": "markdown",
   "id": "0f77fb58",
   "metadata": {},
   "source": [
    "Selon le parcours suivi, la construction de cette application sera plus ou moins guidée. \n",
    "\n",
    "## 4.1. Lancer l'application pour la tester (🟡,🟢,🔵,🔴,⚫)\n",
    "\n",
    "Il est rare d'avoir une application fonctionnelle du premier coup, cela peut demander\n",
    "beaucoup d'essai-erreur pour parvenir à ses fins. Il est donc utile de régulièrement\n",
    "lancer l'application pour la tester. Cela se fait en lançant un serveur local,\n",
    "c'est-à-dire en créant une tâche qui fonctionne en arrière-plan et qui va créer une \n",
    "interaction entre un navigateur et du code `Python`. \n",
    "\n",
    "Pour lancer ce serveur web local plusieurs méthodes sont possibles sur le `SSP Cloud`,\n",
    "en partant du principe que votre application est stockée dans un fichier `app.py`\n",
    "\n",
    "- Pour les personnes familières de la ligne de commande, vous pouvez \n",
    "en lancer une (en cliquant sur `+` dans le menu à gauche de `Jupyter` \n",
    "et exécuter, dans le bon dossier de travail, `streamlit run app.py --server.port 5000 --server.address 0.0.0.0` \n",
    "- Pour les personnes désirant lancer la commande depuis `Jupyter`,\n",
    "il suffit d'exécuter la cellule suivante:"
   ]
  },
  {
   "cell_type": "code",
   "execution_count": 79,
   "id": "b4cfb151",
   "metadata": {},
   "outputs": [],
   "source": [
    "#| eval: false\n",
    "!streamlit run app.py --server.port 5000 --server.address 0.0.0.0"
   ]
  },
  {
   "cell_type": "markdown",
   "id": "4b075109",
   "metadata": {},
   "source": [
    "Remarque: si vous n'êtes pas sur le `SSP Cloud`, vous pouvez retirer\n",
    "l'option `--server.address 0.0.0.0`. \n",
    "\n",
    "Il reste à accéder au navigateur sur lequel l'application a été déployée. \n",
    "Sur un poste local, vous ouvririez l'URL `localhost:5000` sur votre navigateur. \n",
    "Pour accéder à votre application depuis le SSP Cloud, il va falloir y accéder\n",
    "différemment. \n",
    "\n",
    "1. Il convient d'ouvrir un nouvel onglet sur votre navigateur web pour retourner sur\n",
    "votre espace SSPCloud: [datalab.sspcloud.fr/my-services](https://datalab.sspcloud.fr/my-services).\n",
    "Si vous êtes sur une autre page, vous pouvez cliquer à gauche sur `My Services`.\n",
    "2. Ensuite, il faut cliquer sur le bouton `README` pour accéder à des informations sur le \n",
    "service `Jupyter` ouvert. \n",
    "\n",
    "![](img/demo_readme_sspcloud.png)\n",
    "\n",
    "Il faut ensuite cliquer sur le lien ci-dessous:\n",
    "\n",
    "![](img/demo_readme_sspcloud2.png)\n",
    "\n",
    "Cela va ouvrir un nouvel onglet sur votre navigateur où, cette fois, vous aurez l'application.\n",
    "Chaque action que vous effectuerez sur celle-ci déclenchera une opération dans la  \n",
    "ligne de commande que vous avez lancée. \n",
    "\n",
    "Pour le parcours 🟡, la voie s'arrête à ce niveau. Vous pouvez néanmoins basculer du côté de la\n",
    "voie 🟢 pour apprendre de manière guidée à créer votre application `Streamlit`.\n",
    "\n",
    "Pour les parcours 🟢,🔵,🔴 et ⚫, vous allez pouvoir créer vous-même l'application, de manière \n",
    "plus ou moins guidée. \n",
    "\n",
    "\n",
    "## 4.2. Créer l'application dans un serveur temporaire  (🟢,🔵,🔴,⚫)\n",
    "\n",
    "Voici la gradation des niveaux pour créer l'application:\n",
    "\n",
    "- 🟢: Lire et comprendre le contenu du fichier `app.py` qui génère l'application\n",
    "- 🔵: Après avoir supprimé le fichier d'exemple `app.py`,\n",
    "mettre en oeuvre l'application avec des consignes guidées\n",
    "- 🔴: Après avoir supprimé le fichier d'exemple `app.py`, mettre en oeuvre l'application\n",
    "à partir d'un cachier des charges détaillé\n",
    "- ⚫: Après avoir supprimé le fichier d'exemple `app.py`, mettre en oeuvre l'application\n",
    "uniquement à partir de l'exemple sur [myyuka.lab.sspcloud.fr/](https://myyuka.lab.sspcloud.fr/)\n",
    "et de la vidéo précédemment présentée. Idéalement, faire en sorte que le contenu du site soit\n",
    "_responsive_ c'est-à-dire qu'il soit bien adapté à la taille de l'écran. \n",
    "\n",
    "::: {.cell .markdown}\n",
    "<!----- boite ⚫ ----->\n",
    "\n",
    "```{=html}"
   ]
  },
  {
   "cell_type": "code",
   "execution_count": 80,
   "id": "b1277183",
   "metadata": {},
   "outputs": [
    {
     "name": "stdout",
     "output_type": "stream",
     "text": [
      "<div class=\"alert alert-warning\" role=\"alert\" style=\"color: rgba(0,0,0,.8); background-color: white; margin-top: 1em; margin-bottom: 1em; margin:1.5625emauto; padding:0 .6rem .8rem!important;overflow:hidden; page-break-inside:avoid; border-radius:.25rem; box-shadow:0 .2rem .5rem rgba(0,0,0,.05),0 0 .05rem rgba(0,0,0,.1); transition:color .25s,background-color .25s,border-color .25s ; border-right: 1px solid #dee2e6 ; border-top: 1px solid #dee2e6 ; border-bottom: 1px solid #dee2e6 ; border-left:.2rem solid #9c9797;\">\n",
      "<h3 class=\"alert-heading\"><i class=\"fa fa-pencil\"></i> Créer l'application (⚫)</h3>\n"
     ]
    }
   ],
   "source": [
    "#| echo: false\n",
    "#| output: asis\n",
    "#| eval: true\n",
    "from utils_notebook import create_box_level\n",
    "create_box_level(color = \"grey\", title = \"Créer l'application (⚫)\")"
   ]
  },
  {
   "cell_type": "markdown",
   "id": "eebb2701",
   "metadata": {},
   "source": [
    "<details>\n",
    "<summary>Dérouler pour révéler les instructions</summary>\n",
    "```\n",
    "\n",
    "Bon courage, force et honneur, tout ça tout ça...\n",
    "\n",
    "```{=html}\n",
    "</details>\n",
    "</div>\n",
    "```\n",
    "\n",
    "<!----- end ⚫ ----->\n",
    ":::\n",
    "\n",
    "\n",
    "::: {.cell .markdown}\n",
    "<!----- boite 🔴 ----->\n",
    "\n",
    "```{=html}"
   ]
  },
  {
   "cell_type": "code",
   "execution_count": 81,
   "id": "41064335",
   "metadata": {},
   "outputs": [
    {
     "name": "stdout",
     "output_type": "stream",
     "text": [
      "<div class=\"alert alert-warning\" role=\"alert\" style=\"color: rgba(0,0,0,.8); background-color: white; margin-top: 1em; margin-bottom: 1em; margin:1.5625emauto; padding:0 .6rem .8rem!important;overflow:hidden; page-break-inside:avoid; border-radius:.25rem; box-shadow:0 .2rem .5rem rgba(0,0,0,.05),0 0 .05rem rgba(0,0,0,.1); transition:color .25s,background-color .25s,border-color .25s ; border-right: 1px solid #dee2e6 ; border-top: 1px solid #dee2e6 ; border-bottom: 1px solid #dee2e6 ; border-left:.2rem solid #9c9797;\">\n",
      "<h3 class=\"alert-heading\"><i class=\"fa fa-pencil\"></i> Créer l'application (🔴)</h3>\n"
     ]
    }
   ],
   "source": [
    "#| echo: false\n",
    "#| output: asis\n",
    "#| eval: true\n",
    "from utils_notebook import create_box_level\n",
    "create_box_level(color = \"grey\", title = \"Créer l'application (🔴)\")"
   ]
  },
  {
   "cell_type": "markdown",
   "id": "5607368a",
   "metadata": {},
   "source": [
    "<details>\n",
    "<summary>Dérouler pour révéler les instructions</summary>\n",
    "```\n",
    "\n",
    "Pour commencer, voici l'ensemble de l'environnement, que nous vous proposons de prendre\n",
    "comme donné:\n",
    "\n",
    "```python\n",
    "    import streamlit as st\n",
    "    from streamlit_javascript import st_javascript\n",
    "    \n",
    "    import cv2\n",
    "    import pandas as pd\n",
    "    import duckdb\n",
    "    \n",
    "    from utils.detect_barcode import extract_ean, visualise_barcode\n",
    "    from utils.pipeline import find_product_openfood\n",
    "    from utils.construct_figures import plot_product_info\n",
    "    from utils.utils_app import local_css, label_grade_formatter\n",
    "    from utils.download_pb import import_coicop_labels\n",
    "    \n",
    "    # Une personnalisation sympa pour l'onglet\n",
    "    st.set_page_config(page_title=\"PYuka\", page_icon=\"🍎\")\n",
    "    \n",
    "    \n",
    "    # --------------------\n",
    "    # METADATA\n",
    "    indices_synthetiques = [\n",
    "        \"nutriscore_grade\", \"ecoscore_grade\", \"nova_group\"\n",
    "    ]\n",
    "    principales_infos = [\n",
    "        'product_name', 'code', 'preprocessed_labels', 'coicop', \\\n",
    "        'url', 'image_url'\n",
    "    ]\n",
    "    liste_colonnes = principales_infos + indices_synthetiques\n",
    "    liste_colonnes_sql = [f\"\\\"{s}\\\"\" for s in liste_colonnes]\n",
    "    liste_colonnes_sql = ', '.join(liste_colonnes_sql)\n",
    "    \n",
    "    con = duckdb.connect(database=':memory:')\n",
    "    con.execute(\"\"\"\n",
    "        INSTALL httpfs;\n",
    "        LOAD httpfs;\n",
    "        SET s3_endpoint='minio.lab.sspcloud.fr'\n",
    "    \"\"\")\n",
    "    \n",
    "    # LOAD DATASET\n",
    "    url_data = \"https://projet-funathon.minio.lab.sspcloud.fr/2023/sujet4/diffusion/openfood.parquet\"\n",
    "    stats_notes = pd.read_parquet(\"https://minio.lab.sspcloud.fr/projet-funathon/2023/sujet4/diffusion/stats_notes_pandas.parquet\")\n",
    "    coicop = import_coicop_labels(\n",
    "        \"https://www.insee.fr/fr/statistiques/fichier/2402696/coicop2016_liste_n5.xls\"\n",
    "    )\n",
    "    \n",
    "    # --------------------\n",
    "    \n",
    "    \n",
    "    st.title('Mon Yuka 🥕 avec Python 🐍')\n",
    "    \n",
    "    # Feuille de style & taille de l'écran pour adapter l'interface\n",
    "    local_css(\"style.css\")\n",
    "    width = st_javascript(\n",
    "        \"window.innerWidth\"\n",
    "    )\n",
    "```\n",
    "\n",
    "1. Si l'écran a une taille suffisante (on propose comme taille discriminante 500px),la partie gauche de l'écran est consacrée aux _inputs_ (sinon c'est en haut de la page) :\n",
    "    + Un bouton permet à l'utilisateur de choisir sa méthode d'_upload_ de photo: soit un _file uploader_, soit une capture à partir de la caméra\n",
    "    + Si l'écran a une taille suffisante, afficher l'image reconnue\n",
    "    + Créer une liste modifiable de statistiques à afficher à partir d'un sélecteur adapté.\n",
    "Pour formatter les champs à afficher, vous pouvez utiliser la fonction `label_grade_formatter`\n",
    "qui va, par exemple, transformer `nutriscore_grade` en `Nutriscore`\n",
    "2. Créer le corps principal de l'application avec les instructions suivantes:\n",
    "    + Créer une fonction enrobant `find_product_openfood` pour récupérer la donnée adaptée à partir d'un EAN. Nommé le `DataFrame` obtenu `subset`\n",
    "    + Utiliser  `extract_ean` pour décoder l'image. Stocker l'objet en sortie d'`OpenCV` sous le nom `decoded_objects`\n",
    "    + A partir de l'objet `subset`: créer un texte qui renvoie vers l'URL du produit sur `OpenFoodFacts`, afficher l'image du produit, afficher le `DataFrame` dans l'interface de notre application\n",
    "    + Utiliser notre fonction de production de graphique pour afficher des statistiques descriptives à partir de notre choix d'options. \n",
    "```{=html}\n",
    "</details>\n",
    "</div>\n",
    "```\n",
    "\n",
    "<!----- end 🔴 ----->\n",
    ":::\n",
    "\n",
    "\n",
    "::: {.cell .markdown}\n",
    "<!----- boite 🔵 ----->\n",
    "\n",
    "```{=html}"
   ]
  },
  {
   "cell_type": "code",
   "execution_count": 82,
   "id": "a85903ae",
   "metadata": {},
   "outputs": [
    {
     "name": "stdout",
     "output_type": "stream",
     "text": [
      "<div class=\"alert alert-warning\" role=\"alert\" style=\"color: rgba(0,0,0,.8); background-color: white; margin-top: 1em; margin-bottom: 1em; margin:1.5625emauto; padding:0 .6rem .8rem!important;overflow:hidden; page-break-inside:avoid; border-radius:.25rem; box-shadow:0 .2rem .5rem rgba(0,0,0,.05),0 0 .05rem rgba(0,0,0,.1); transition:color .25s,background-color .25s,border-color .25s ; border-right: 1px solid #dee2e6 ; border-top: 1px solid #dee2e6 ; border-bottom: 1px solid #dee2e6 ; border-left:.2rem solid #9c9797;\">\n",
      "<h3 class=\"alert-heading\"><i class=\"fa fa-pencil\"></i> Créer l'application (🔵)</h3>\n"
     ]
    }
   ],
   "source": [
    "#| echo: false\n",
    "#| output: asis\n",
    "#| eval: true\n",
    "from utils_notebook import create_box_level\n",
    "create_box_level(color = \"grey\", title = \"Créer l'application (🔵)\")"
   ]
  },
  {
   "cell_type": "markdown",
   "id": "dc31a96f",
   "metadata": {},
   "source": [
    "<details>\n",
    "<summary>Dérouler pour révéler les instructions</summary>\n",
    "```\n",
    "\n",
    "Pour commencer, voici l'ensemble de l'environnement, que nous vous proposons de prendre\n",
    "comme donné:\n",
    "\n",
    "```python\n",
    "    import streamlit as st\n",
    "    from streamlit_javascript import st_javascript\n",
    "    \n",
    "    import cv2\n",
    "    import pandas as pd\n",
    "    import duckdb\n",
    "    \n",
    "    from utils.detect_barcode import extract_ean, visualise_barcode\n",
    "    from utils.pipeline import find_product_openfood\n",
    "    from utils.construct_figures import plot_product_info\n",
    "    from utils.utils_app import local_css, label_grade_formatter\n",
    "    from utils.download_pb import import_coicop_labels\n",
    "    \n",
    "    # Une personnalisation sympa pour l'onglet\n",
    "    st.set_page_config(page_title=\"PYuka\", page_icon=\"🍎\")\n",
    "    \n",
    "    \n",
    "    # --------------------\n",
    "    # METADATA\n",
    "    indices_synthetiques = [\n",
    "        \"nutriscore_grade\", \"ecoscore_grade\", \"nova_group\"\n",
    "    ]\n",
    "    principales_infos = [\n",
    "        'product_name', 'code', 'preprocessed_labels', 'coicop', \\\n",
    "        'url', 'image_url'\n",
    "    ]\n",
    "    liste_colonnes = principales_infos + indices_synthetiques\n",
    "    liste_colonnes_sql = [f\"\\\"{s}\\\"\" for s in liste_colonnes]\n",
    "    liste_colonnes_sql = ', '.join(liste_colonnes_sql)\n",
    "    \n",
    "    con = duckdb.connect(database=':memory:')\n",
    "    con.execute(\"\"\"\n",
    "        INSTALL httpfs;\n",
    "        LOAD httpfs;\n",
    "        SET s3_endpoint='minio.lab.sspcloud.fr'\n",
    "    \"\"\")\n",
    "    \n",
    "    # LOAD DATASET\n",
    "    url_data = \"https://projet-funathon.minio.lab.sspcloud.fr/2023/sujet4/diffusion/openfood.parquet\"\n",
    "    stats_notes = pd.read_parquet(\"https://minio.lab.sspcloud.fr/projet-funathon/2023/sujet4/diffusion/stats_notes_pandas.parquet\")\n",
    "    coicop = import_coicop_labels(\n",
    "        \"https://www.insee.fr/fr/statistiques/fichier/2402696/coicop2016_liste_n5.xls\"\n",
    "    )\n",
    "    \n",
    "    # --------------------\n",
    "    \n",
    "    \n",
    "    st.title('Mon Yuka 🥕 avec Python 🐍')\n",
    "    \n",
    "    # Feuille de style & taille de l'écran pour adapter l'interface\n",
    "    local_css(\"style.css\")\n",
    "    width = st_javascript(\n",
    "        \"window.innerWidth\"\n",
    "    )\n",
    "```\n",
    "\n",
    "<br>\n",
    "Nous proposons ensuite de construire ce fichier par étape\n",
    "\n",
    "Etape 1: Construire la partie _inputs_ en suivant le modèle\n",
    "à trou suivant:\n",
    "\n",
    "```python\n",
    "    if width > 500:\n",
    "        # pour les grands écrans on met une partie à gauche\n",
    "        # qui centralise plusieurs type d'input\n",
    "        with st.sidebar:\n",
    "            # 1. choix de la méthode d'upload\n",
    "            if input_method == 'Photo enregistrée':\n",
    "                # 2. file uploader\n",
    "            else:\n",
    "                # 3. camera uploader\n",
    "            \n",
    "            if input_url is not None:\n",
    "                # visualise l'image s'il y a un input\n",
    "                img = visualise_barcode(input_url)\n",
    "                cv2.imwrite('barcode_opencv.jpg', img)\n",
    "                # 4. afficher l'image\n",
    "    \n",
    "            # 5. choix des statistiques à afficher\n",
    "    else:\n",
    "        # pour les petits écrans (type smartphone)\n",
    "        # le file uploader est au début\n",
    "        # 1. choix de la méthode d'upload\n",
    "        if input_method == 'Photo enregistrée':\n",
    "            # 2. file uploader\n",
    "        else:\n",
    "            # 3. camera uploader\n",
    "            picture = st.camera_input(\"Take a picture\")\n",
    "            input_url = picture\n",
    "            # 5. choix des statistiques à afficher\n",
    "```\n",
    "\n",
    "<br>\n",
    "\n",
    "Celui-ci est à remplir de la manière suivante:\n",
    "\n",
    "1. Créer un bouton qui permet à l'utilisateur de choisir\n",
    "sa méthode d'_upload_ de photo. Celui-ci est à enregistrer\n",
    "sous le nom `input_method`\n",
    "2. Proposer un _file uploader_ dont la valeur peut être utilisée\n",
    "sous le nom `input_url`\n",
    "3. Proposer un outil de capture de caméra dont la valeur peut être utilisée\n",
    "sous le nom `input_url`\n",
    "4. Si l'écran a une taille suffisante (on propose comme taille discriminante 500px),\n",
    "afficher l'image stockée dans le fichier temporaire `barcode_opencv.jpg`\n",
    "5. Créer une liste modifiable de statistiques à afficher à partir d'un sélecteur adapté.\n",
    "Pour formatter les champs à afficher, vous pouvez utiliser la fonction `label_grade_formatter`\n",
    "qui va, par exemple, transformer `nutriscore_grade` en `Nutriscore`\n",
    "\n",
    "Etape 2: Construire la partie s'adaptant à ces _inputs_ avec le modèle suivant\n",
    "à trou suivant:\n",
    "\n",
    "```python\n",
    "    # ----------------------------------------------------------\n",
    "    # PARTIE 2: EXPLOITATION DES INPUTS DANS NOTRE APP\n",
    "    \n",
    "    \n",
    "    # CHARGEMENT DE LA LIGNE DANS OPENFOODFACTS\n",
    "    @st.cache_data\n",
    "    def load_data(ean):\n",
    "        # 1. Créer le DataFrame avec la fonction `find_product_openfood` \n",
    "        # openfood_data = \n",
    "        return openfood_data\n",
    "    \n",
    "    if input_url is None:\n",
    "        # Showcase product\n",
    "        st.write('Produit exemple: Coca-Cola')\n",
    "        subset = load_data(\"5000112602791\")\n",
    "        decoded_objects = extract_ean(subset[\"image_url\"].iloc[0])\n",
    "    else:\n",
    "        # 2. utiliser `extract_ean` pour décoder l'image\n",
    "        # decoded_objects\n",
    "        \n",
    "    try:\n",
    "        # 3. Récupérer l'EAN\n",
    "        ean = decoded_objects[0].data.decode(\"utf-8\")\n",
    "        st.markdown(f'🎉 __EAN détecté__: <span style=\"color:Red\">{ean}</span>', unsafe_allow_html=True)\n",
    "        subset = load_data(ean)\n",
    "        # 3. Mettre un lien avec l'URL du produit sur openfoodfacts\n",
    "        # 4. Afficher l'image du produit\n",
    "        # 5. Afficher le DataFrame\n",
    "        # put some statistics\n",
    "        t = f\"<div>Statistiques parmi les <span class='highlight blue'>{subset['category'].iloc[0]}<span class='bold'>COICOP</span>\"                \n",
    "        st.markdown(t, unsafe_allow_html=True)\n",
    "        # 6. Afficher les figures plotly\n",
    "    except:\n",
    "        # we don't manage to get EAN\n",
    "        st.write('🚨 Problème de lecture de la photo, essayez de mieux cibler le code-barre')\n",
    "        st.image(\"https://i.kym-cdn.com/entries/icons/original/000/025/458/grandma.jpg\")\n",
    "```\n",
    "\n",
    "Voici des indications pour compléter ces trous:\n",
    "\n",
    "1. Créer une fonction enrobant `find_product_openfood` pour récupérer la donnée adaptée à partir d'un EAN\n",
    "2. Utiliser  `extract_ean` pour décoder l'image. Stocker l'objet en sortie d'`OpenCV` sous le nom `decoded_objects`\n",
    "3. A partir de l'objet `subset`, créer un texte qui renvoie vers l'URL du produit sur `OpenFoodFacts`\n",
    "4. Afficher l'image du produit, l'URL étant la variable adéquate de `subset`\n",
    "5. Afficher le `DataFrame` dans l'interface de notre application\n",
    "6. Utiliser notre fonction de production de graphique pour afficher des statistiques descriptives à partir de notre\n",
    "choix d'options. \n",
    "\n",
    "```{=html}\n",
    "</details>\n",
    "</div>\n",
    "```\n",
    "\n",
    "<!----- end 🔵 ----->\n",
    ":::\n",
    "\n",
    "Voici une proposition d'application, afin de reproduire en local le contenu de [myyuka.lab.sspcloud.fr/](https://myyuka.lab.sspcloud.fr/)\n"
   ]
  },
  {
   "cell_type": "code",
   "execution_count": 83,
   "id": "5c75ba46",
   "metadata": {},
   "outputs": [
    {
     "name": "stdout",
     "output_type": "stream",
     "text": [
      "import streamlit as st\n",
      "from streamlit_javascript import st_javascript\n",
      "\n",
      "import cv2\n",
      "import pandas as pd\n",
      "import duckdb\n",
      "\n",
      "from utils.detect_barcode import extract_ean, visualise_barcode\n",
      "from utils.pipeline import find_product_openfood\n",
      "from utils.construct_figures import plot_product_info\n",
      "from utils.utils_app import local_css, label_grade_formatter\n",
      "from utils.download_pb import import_coicop_labels\n",
      "\n",
      "# Une personnalisation sympa pour l'onglet\n",
      "st.set_page_config(page_title=\"PYuka\", page_icon=\"🍎\")\n",
      "\n",
      "\n",
      "# --------------------\n",
      "# METADATA\n",
      "indices_synthetiques = [\n",
      "    \"nutriscore_grade\", \"ecoscore_grade\", \"nova_group\"\n",
      "]\n",
      "principales_infos = [\n",
      "    'product_name', 'code', 'preprocessed_labels', 'coicop', \\\n",
      "    'url', 'image_url'\n",
      "]\n",
      "liste_colonnes = principales_infos + indices_synthetiques\n",
      "liste_colonnes_sql = [f\"\\\"{s}\\\"\" for s in liste_colonnes]\n",
      "liste_colonnes_sql = ', '.join(liste_colonnes_sql)\n",
      "\n",
      "con = duckdb.connect(database=':memory:')\n",
      "con.execute(\"\"\"\n",
      "    INSTALL httpfs;\n",
      "    LOAD httpfs;\n",
      "    SET s3_endpoint='minio.lab.sspcloud.fr'\n",
      "\"\"\")\n",
      "\n",
      "# LOAD DATASET\n",
      "url_data = \"https://projet-funathon.minio.lab.sspcloud.fr/2023/sujet4/diffusion/openfood.parquet\"\n",
      "stats_notes = pd.read_parquet(\"https://minio.lab.sspcloud.fr/projet-funathon/2023/sujet4/diffusion/stats_notes_pandas.parquet\")\n",
      "coicop = import_coicop_labels(\n",
      "    \"https://www.insee.fr/fr/statistiques/fichier/2402696/coicop2016_liste_n5.xls\"\n",
      ")\n",
      "\n",
      "# --------------------\n",
      "\n",
      "\n",
      "st.title('Mon Yuka 🥕 avec Python 🐍')\n",
      "\n",
      "# Feuille de style & taille de l'écran pour adapter l'interface\n",
      "local_css(\"style.css\")\n",
      "width = st_javascript(\n",
      "    \"window.innerWidth\"\n",
      ")\n",
      "\n",
      "# --------------------------------\n",
      "# PARTIE 1: LES INPUTS\n",
      "\n",
      "if width > 500:\n",
      "    # pour les grands écrans on met une partie à gauche\n",
      "    # qui centralise plusieurs type d'input\n",
      "    with st.sidebar:\n",
      "        # choix de la méthode d'upload\n",
      "        input_method = st.radio(\n",
      "                \"Méthode d'upload de la photo\",\n",
      "                ('Photo enregistrée', 'Capture de la webcam'))\n",
      "        if input_method == 'Photo enregistrée':\n",
      "            # file uploader\n",
      "            input_url = st.file_uploader(\"Uploaded une photo:\", accept_multiple_files=False)\n",
      "        else:\n",
      "            # camera uploader\n",
      "            picture = st.camera_input(\"Take a picture\")\n",
      "            input_url = picture\n",
      "        \n",
      "        if input_url is not None:\n",
      "            # visualise l'image s'il y a un input\n",
      "            img = visualise_barcode(input_url)\n",
      "            cv2.imwrite('barcode_opencv.jpg', img)\n",
      "            st.image('barcode_opencv.jpg')\n",
      "\n",
      "        # choix des statistiques à afficher\n",
      "        options = st.multiselect(\n",
      "                'Quelles statistiques afficher ?',\n",
      "                [\"nutriscore_grade\", \"nova_group\", \"ecoscore_grade\"],\n",
      "                [\"nutriscore_grade\", \"nova_group\", \"ecoscore_grade\"],\n",
      "                format_func=label_grade_formatter)\n",
      "else:\n",
      "    # pour les petits écrans (type smartphone)\n",
      "    # le file uploader est au début\n",
      "    input_method = st.radio(\n",
      "                    \"Méthode d'upload de la photo\",\n",
      "                    ('Photo enregistrée', 'Capture de la webcam'))\n",
      "    if input_method == 'Photo enregistrée':\n",
      "        # file uploader\n",
      "        input_url = st.file_uploader(\"Uploaded une photo:\", accept_multiple_files=False)\n",
      "    else:\n",
      "        # camera uploader\n",
      "        picture = st.camera_input(\"Take a picture\")\n",
      "        input_url = picture\n",
      "    # choix des statistiques à afficher\n",
      "    options = st.multiselect(\n",
      "                    'Quelles statistiques afficher ?',\n",
      "                    [\"nutriscore_grade\", \"nova_group\", \"ecoscore_grade\"],\n",
      "                    [\"nutriscore_grade\", \"nova_group\", \"ecoscore_grade\"],\n",
      "                    format_func=label_grade_formatter)\n",
      "\n",
      "\n",
      "# ----------------------------------------------------------\n",
      "# PARTIE 2: EXPLOITATION DES INPUTS DANS NOTRE APP\n",
      "\n",
      "\n",
      "\n",
      "# CHARGEMENT DE LA LIGNE DANS OPENFOODFACTS\n",
      "@st.cache_data\n",
      "def load_data(ean):\n",
      "    openfood_data = find_product_openfood(con, liste_colonnes_sql, url_data, ean, coicop)\n",
      "    return openfood_data\n",
      "\n",
      "if input_url is None:\n",
      "    # Showcase product\n",
      "    st.write('Produit exemple: Coca-Cola')\n",
      "    subset = load_data(\"5000112602791\")\n",
      "    decoded_objects = extract_ean(subset[\"image_url\"].iloc[0])\n",
      "else:\n",
      "    # decode image\n",
      "    decoded_objects = extract_ean(input_url)\n",
      "    \n",
      "try:\n",
      "    # we manage to read EAN\n",
      "    ean = decoded_objects[0].data.decode(\"utf-8\")\n",
      "    st.markdown(f'🎉 __EAN détecté__: <span style=\"color:Red\">{ean}</span>', unsafe_allow_html=True)\n",
      "    subset = load_data(ean)\n",
      "    # visualise product\n",
      "    st.markdown(f'Consulter ce produit sur le [site `Openfoodfacts`]({subset[\"url\"].iloc[0]})')\n",
      "    st.image(subset[\"image_url\"].iloc[0])                \n",
      "    st.dataframe(subset.loc[:, ~subset.columns.str.contains(\"url\")])\n",
      "    # put some statistics\n",
      "    t = f\"<div>Statistiques parmi les <span class='highlight blue'>{subset['category'].iloc[0]}<span class='bold'>COICOP</span>\"                \n",
      "    st.markdown(t, unsafe_allow_html=True)\n",
      "    # images\n",
      "    for var in options:\n",
      "        fig = plot_product_info(subset, var, stats_notes)\n",
      "        st.plotly_chart(fig, height=800, use_container_width=True)\n",
      "except:\n",
      "    # we don't\n",
      "    st.write('🚨 Problème de lecture de la photo, essayez de mieux cibler le code-barre')\n",
      "    st.image(\"https://i.kym-cdn.com/entries/icons/original/000/025/458/grandma.jpg\")\n",
      "\n",
      "\n"
     ]
    }
   ],
   "source": [
    "#| echo: true\n",
    "#| eval: true\n",
    "# Solution pour la voie 🟢\n",
    "with open('app.py', 'r') as file:\n",
    "    app_content = file.read()\n",
    "\n",
    "print(\n",
    "    app_content\n",
    ")"
   ]
  },
  {
   "cell_type": "markdown",
   "id": "071ffb91",
   "metadata": {},
   "source": [
    "## 4.3. En marche vers la mise en production (🟢,🔵,🔴,⚫)\n",
    "\n",
    "Pour le parcours 🟢, la voie s'arrête à ce niveau. Vous pouvez néanmoins basculer du côté de la\n",
    "voie 🔵 pour apprendre de manière guidée à mettre en production votre travail en\n",
    "déployant automatiquement une application. \n",
    "\n",
    "Pour les parcours 🔵,🔴 et ⚫, vous allez pouvoir déployer vous-même l'application, de manière \n",
    "plus ou moins guidée. \n",
    "\n",
    "# 5️⃣ Déploiement de l'application interactive\n",
    "\n",
    "## 5.1. Préliminaires (🔵,🔴,⚫)\n",
    "\n",
    "L'application construite dans la partie précédente reste pour le moment à un niveau local: elle n'est accessible que via l'utilisateur qui l'a déployée et ce sur la machine où elle a été déployée. L'objectif de cette dernière partie est de **déployer** l'application, c'est à dire de la rendre accessible en continu à n'importe quel utilisateur. Pour cela, on va devoir s'intéresser à la technologie des **conteneurs**, qui est à la base des infrastructures de production modernes.\n",
    "\n",
    "Le fait de lancer ce notebook via un simple [lien de lancement](LIEN A METTRE) nous a permis de commencer à travailler directement, sans trop nous soucier de l'environnement de développement dans lequel on se trouvait.\n",
    "\n",
    "Mais dès lors que l'on souhaite passer de son environnement de développement à un environnement de production, il est nécessaire de se poser un ensemble de questions pour s'assurer que le projet fonctionne ailleurs que sur sa machine personnelle :\n",
    "\n",
    "- quelle est la version de `Python` à installer pour que le projet fonctionne ?\n",
    "- quels sont les packages `Python` utilisés par le projet et quelles sont leurs versions ?\n",
    "- quelles sont les éventuelles librairies systèmes, i.e. dépendantes du système d'exploitation installé, nécessaires pour que les packages `Python` s'installent correctement ?\n",
    "\n",
    "La technologie standard pour assurer la **portabilité** d'un projet, c'est à dire de fonctionner sur différents environnements informatiques, est celle des **conteneurs**. Schématiquement, il s'agit de boîtes virtuelles qui contiennent l'ensemble de l’environnement (librairies systèmes, interpréteur `Python`, code applicatif, configuration...) permettant de faire tourner l’application, tout en restant légères et donc faciles à redistribuer. En fait, chaque service lancé sur le `SSP Cloud` est un conteneur, et ce notebook tourne donc lui-même... dans un conteneur !\n",
    "\n",
    "L'enjeu de cette partie est donc de dévoiler pas à pas la boîte noire afin de comprendre dans quel environnement on se trouve, et comment celui-ci va nous permettre de déployer notre application.\n",
    "\n",
    "## 5.2. Conteneurisation de l'application (🔵,🔴,⚫)\n",
    "\n",
    "::: {.cell .markdown}\n",
    "<!----- boite 🔵 ----->\n",
    "\n",
    "```{=html}"
   ]
  },
  {
   "cell_type": "code",
   "execution_count": 84,
   "id": "3d5fac70",
   "metadata": {},
   "outputs": [
    {
     "name": "stdout",
     "output_type": "stream",
     "text": [
      "<div class=\"alert alert-warning\" role=\"alert\" style=\"color: rgba(0,0,0,.8); background-color: white; margin-top: 1em; margin-bottom: 1em; margin:1.5625emauto; padding:0 .6rem .8rem!important;overflow:hidden; page-break-inside:avoid; border-radius:.25rem; box-shadow:0 .2rem .5rem rgba(0,0,0,.05),0 0 .05rem rgba(0,0,0,.1); transition:color .25s,background-color .25s,border-color .25s ; border-right: 1px solid #dee2e6 ; border-top: 1px solid #dee2e6 ; border-bottom: 1px solid #dee2e6 ; border-left:.2rem solid #1976d2;\">\n",
      "<h3 class=\"alert-heading\"><i class=\"fa fa-pencil\"></i> Comprendre la création de l'image `Docker` de l'application (🔵)</h3>\n"
     ]
    }
   ],
   "source": [
    "#| echo: false\n",
    "#| output: asis\n",
    "#| eval: true\n",
    "from utils_notebook import create_box_level\n",
    "create_box_level(color = \"🔵\", title = \"Comprendre la création de l'image `Docker` de l'application (🔵)\")"
   ]
  },
  {
   "cell_type": "markdown",
   "id": "ca4e0224",
   "metadata": {},
   "source": [
    "<details>\n",
    "<summary>Dérouler pour révéler les instructions</summary>\n",
    "```\n",
    "\n",
    "Le projet contient à la racine un fichier `Dockerfile`. Il s'agit de la \"recette\" de construction de l'image `Docker` de l'application, i.e. qui spécifie l'environnement nécessaire à son bon fonctionnement.\n",
    "\n",
    "En vous inspirant de la [documentation Streamlit](https://docs.streamlit.io/knowledge-base/tutorials/deploy/docker#create-a-dockerfile) (en Anglais) ou bien de cette [page de cours](https://ensae-reproductibilite.github.io/website/chapters/portability.html#dockerfile), essayez de comprendre pas à pas les étapes de construction de l'image `Docker` de l'application.\n",
    "\n",
    "```{=html}\n",
    "</details>\n",
    "</div>\n",
    "```\n",
    "\n",
    "<!----- end 🔵 ----->\n",
    ":::\n",
    "\n",
    "::: {.cell .markdown}\n",
    "<!----- boite 🔴, ⚫ ----->\n",
    "\n",
    "```{=html}"
   ]
  },
  {
   "cell_type": "code",
   "execution_count": 85,
   "id": "93046be5",
   "metadata": {},
   "outputs": [
    {
     "name": "stdout",
     "output_type": "stream",
     "text": [
      "<div class=\"alert alert-warning\" role=\"alert\" style=\"color: rgba(0,0,0,.8); background-color: white; margin-top: 1em; margin-bottom: 1em; margin:1.5625emauto; padding:0 .6rem .8rem!important;overflow:hidden; page-break-inside:avoid; border-radius:.25rem; box-shadow:0 .2rem .5rem rgba(0,0,0,.05),0 0 .05rem rgba(0,0,0,.1); transition:color .25s,background-color .25s,border-color .25s ; border-right: 1px solid #dee2e6 ; border-top: 1px solid #dee2e6 ; border-bottom: 1px solid #dee2e6 ; border-left:.2rem solid #9c9797;\">\n",
      "<h3 class=\"alert-heading\"><i class=\"fa fa-pencil\"></i> Créer le `Dockerfile` de l'application (🔴, ⚫)</h3>\n"
     ]
    }
   ],
   "source": [
    "#| echo: false\n",
    "#| output: asis\n",
    "#| eval: true\n",
    "from utils_notebook import create_box_level\n",
    "create_box_level(color = \"grey\", title = \"Créer le `Dockerfile` de l'application (🔴, ⚫)\")"
   ]
  },
  {
   "cell_type": "markdown",
   "id": "85ad41e8",
   "metadata": {},
   "source": [
    "<details>\n",
    "<summary>Dérouler pour révéler les instructions</summary>\n",
    "```\n",
    "\n",
    "Une image `Docker` est construite à partir d'un fichier spécifique généralement placé à la racine du projet, le `Dockerfile`. Sans regarder le `Dockerfile` existant dans le projet, et en vous inspirant de la [documentation Streamlit](https://docs.streamlit.io/knowledge-base/tutorials/deploy/docker#create-a-dockerfile) (en Anglais), essayez de construire le `Dockerfile` pertinent pour l'application, puis comparez votre solution à l'existant.\n",
    "\n",
    "Quelques consignes supplémentaires :\n",
    "\n",
    "- on utilisera comme image de base `inseefrlab/onyxia-jupyter-python:py3.10.9`\n",
    "- on se mettra en utilisateur *root* via l'[instruction USER](https://docs.docker.com/engine/reference/builder/#user)\n",
    "- on aura besoin d'installer les librairies système suivantes via `apt-get` : `ffmpeg, libsm6, libxext6, libzbar0`\n",
    "- on copiera tous les fichiers du projet local sur l'image `Docker` à l'aide de l'[instruction COPY](https://docs.docker.com/engine/reference/builder/#copy)\n",
    "- on fera tourner l'application sur le port `8000` du conteneur (qu'il faudra donc prendre soin d'exposer)\n",
    "- on ne fera pas de `HEALTHCHECK`\n",
    "\n",
    "```{=html}\n",
    "</details>\n",
    "</div>\n",
    "```\n",
    "\n",
    "<!----- end 🔴, ⚫ ----->\n",
    ":::\n",
    "\n",
    "::: {.cell .markdown}\n",
    "<!----- boite ⚫ ----->\n",
    "\n",
    "```{=html}"
   ]
  },
  {
   "cell_type": "code",
   "execution_count": 86,
   "id": "401c1aac",
   "metadata": {},
   "outputs": [
    {
     "name": "stdout",
     "output_type": "stream",
     "text": [
      "<div class=\"alert alert-warning\" role=\"alert\" style=\"color: rgba(0,0,0,.8); background-color: white; margin-top: 1em; margin-bottom: 1em; margin:1.5625emauto; padding:0 .6rem .8rem!important;overflow:hidden; page-break-inside:avoid; border-radius:.25rem; box-shadow:0 .2rem .5rem rgba(0,0,0,.05),0 0 .05rem rgba(0,0,0,.1); transition:color .25s,background-color .25s,border-color .25s ; border-right: 1px solid #dee2e6 ; border-top: 1px solid #dee2e6 ; border-bottom: 1px solid #dee2e6 ; border-left:.2rem solid #424242;\">\n",
      "<h3 class=\"alert-heading\"><i class=\"fa fa-pencil\"></i> Construire l'image `Docker` de l'application par intégration continue (⚫)</h3>\n"
     ]
    }
   ],
   "source": [
    "#| echo: false\n",
    "#| output: asis\n",
    "#| eval: true\n",
    "from utils_notebook import create_box_level\n",
    "create_box_level(color = \"⚫\", title = \"Construire l'image `Docker` de l'application par intégration continue (⚫)\")"
   ]
  },
  {
   "cell_type": "markdown",
   "id": "aef0286b",
   "metadata": {},
   "source": [
    "<details>\n",
    "<summary>Dérouler pour révéler les instructions</summary>\n",
    "```\n",
    "\n",
    "Une fois le `Dockerfile` construit (du moins sa première version), on va l'utiliser pour construire une image `Docker` (la \"boîte\" virtuelle) et mettre celle-ci sur un registre (répertoire d'images) afin que celle-ci puisse être réutilisée dans un autre environnement que celui où on l'a développée.\n",
    "\n",
    "On pourrait faire cela \"à la main\" en ligne de commandes (cf. [documentation Docker](https://docs.docker.com/get-started/02_our_app/)), mais on va plutôt automatiser le processus en passant par un *pipeline* (série d'étapes) d'intégration continue.\n",
    "\n",
    "Ainsi, à chaque mise à jour du code source de l'application (nouvelles fonctionnalités, correction de bugs, etc.), notre image sera automatiquement mise à jour.\n",
    "\n",
    "Les étapes à suivre sont les suivantes :\n",
    "\n",
    "- si nécessaire, créer un compte personnel sur [GitHub](https://github.com) et sur le [DockerHub](https://hub.docker.com/) (registre d'images open-source)\n",
    "- bien s'assurer que le `Dockerfile` obtenu à l'étape précédente est identique à celui existant dans le projet\n",
    "- [forker](https://docs.github.com/fr/get-started/quickstart/fork-a-repo) le [dépôt du projet](https://github.com/InseeFrLab/funathon2023_sujet4) afin de l'avoir dans votre espace personnel sur `GitHub`\n",
    "- [cloner](https://docs.github.com/fr/repositories/creating-and-managing-repositories/cloning-a-repository) le dépôt forké (i.e. de la forme `votre_nom_utilisateur_gh/funathon2023_sujet4`) via un terminal\n",
    "- créer un nouveau dépôt public sur le `DockerHub`\n",
    "- créer les secrets `DOCKERHUB_USERNAME` et `DOCKERHUB_TOKEN` (cf. [documentation Docker](https://docs.docker.com/build/ci/github-actions/#step-one-create-the-repository)), nécessaires pour que le CI `GitHub` puisse pousser une image sur le `DockerHub`\n",
    "- ajuster le fichier d'intégration continue (`.github/workflows/docker.yaml`) pour que le dépôt sur lequel est envoyé l'image ne soit plus `inseefrlab/funathon2023_sujet4` mais `votre_nom_utilisateur_dh/funathon2023_sujet4`\n",
    "- *commit*/*push* les changements sur `GitHub`\n",
    "- si tout s'est bien passé, une action devrait se lancer (cf. onglet `Actions` du dépôt) afin de construire l'image et de l'envoyer sur le `DockerHub`\n",
    "- si l'action s'est bien déroulée (flèche verte), aller vérifier que l'image est bien disponible dans votre espace sur le `DockerHub`\n",
    "\n",
    "```{=html}\n",
    "</details>\n",
    "</div>\n",
    "```\n",
    "\n",
    "<!----- end ⚫ ----->\n",
    ":::\n",
    "\n",
    "\n",
    "\n",
    "## 5.3. Déploiement sur le `SSP Cloud`\n",
    "\n",
    "Maintenant que l'image de notre application est disponible sur le `DockerHub`, elle peut à présent être récupérée (*pull*) et déployée sur n'importe quel environnement. Dans notre cas, on va la déployer sur un cluster `Kubernetes`, l'infrastructure sous-jacente du `SSP Cloud`. Le fonctionnement de `Kubernetes` est assez technique, mais l'on pourra s'abstraire de certaines parties selon le niveau de difficulté choisi.\n",
    "\n",
    "\n",
    "::: {.cell .markdown}\n",
    "<!----- boite 🔴,⚫ ----->\n",
    "\n",
    "```{=html}"
   ]
  },
  {
   "cell_type": "code",
   "execution_count": 87,
   "id": "992fc6e4",
   "metadata": {},
   "outputs": [
    {
     "name": "stdout",
     "output_type": "stream",
     "text": [
      "<div class=\"alert alert-warning\" role=\"alert\" style=\"color: rgba(0,0,0,.8); background-color: white; margin-top: 1em; margin-bottom: 1em; margin:1.5625emauto; padding:0 .6rem .8rem!important;overflow:hidden; page-break-inside:avoid; border-radius:.25rem; box-shadow:0 .2rem .5rem rgba(0,0,0,.05),0 0 .05rem rgba(0,0,0,.1); transition:color .25s,background-color .25s,border-color .25s ; border-right: 1px solid #dee2e6 ; border-top: 1px solid #dee2e6 ; border-bottom: 1px solid #dee2e6 ; border-left:.2rem solid #9c9797;\">\n",
      "<h3 class=\"alert-heading\"><i class=\"fa fa-pencil\"></i> Déploiement de l'application à partir du `DockerHub` `InseeFrLab` (🔴,⚫)</h3>\n"
     ]
    }
   ],
   "source": [
    "#| echo: false\n",
    "#| output: asis\n",
    "#| eval: true\n",
    "from utils_notebook import create_box_level\n",
    "create_box_level(color = \"grey\", title = \"Déploiement de l'application à partir du `DockerHub` `InseeFrLab` (🔴,⚫)\")"
   ]
  },
  {
   "cell_type": "markdown",
   "id": "8826d845",
   "metadata": {},
   "source": [
    "<details>\n",
    "<summary>Dérouler pour révéler les instructions</summary>\n",
    "```\n",
    "\n",
    "En amont de ce projet, nous avons construit une image `Docker` fonctionnelle de l'application, disponible sur le `DockerHub` dans l'espace [inseefrlab](https://hub.docker.com/repository/docker/inseefrlab/funathon2023_sujet4). Nous avons également créés dans le répertoire `deployment/` à la racine du projet les trois fichiers standards nécessaires au déploiement d'une application sur `Kubernetes`. \n",
    "\n",
    "Afin de déployer l'application, suivre les instructions suivantes :\n",
    "\n",
    "- inspecter les fichiers `deployment.yml`, `service.yml` et `ingress.yml` et repérer les éléments suivants :\n",
    "    - où est spécifiée l'image que l'on va déployer. Pour la difficulté ⚫: remplacer l'image actuelle par celle que vous avez construite et envoyée sur le `DockerHub` dans la partie précédente\n",
    "    - où sont spécifiées les ressources computationnelles que l'on va allouer à l'application\n",
    "    - où est défini le port que l'on a exposé dans le `Dockerfile`. Pour la difficulté ⚫: si vous n'avez pas exposé l'application sur le port `8000`, modifier cette ligne\n",
    "    - où est défini le port sur lequel on va exposer l'application sur le cluster `Kubernetes`\n",
    "    - où est définie l'URL à laquelle on va exposer l'application pour que les utilisateurs puissent s'y connecter. La modifier (à 2 reprises) pour y indiquer une adresse personalisée pour votre déploiement. Seule contrainte : elle doit être de la forme : `*.lab.sspcloud.fr` \n",
    "- ouvrir un terminal dans le service `Jupyter`\n",
    "- se placer dans le projet du funathon : `cd funathon2023_sujet4`\n",
    "- appliquer les contrats de déploiement : `kubernetes apply -f deployment/`\n",
    "- vérifier le lancement du conteneur : `watch kubernetes get pods`. Le nom associé devrait être de la forme `funathon2023-sujet4-****-*****`\n",
    "- une fois que le conteneur est indiqué comme `Running`, entrer dans un navigateur l'URL que vous avez spécifié dans le fichier `ingress.yml`, et vérifier que l'application fonctionne correctement\n",
    "\n",
    "```{=html}\n",
    "</details>\n",
    "</div>\n",
    "```\n",
    "\n",
    "<!----- end 🔴,⚫ ----->\n",
    ":::\n",
    "\n",
    "Votre application est maintenant déployée, vous pouvez partager cette URL avec n'importe quel utilisateur dans le monde !\n",
    "\n",
    "## Bonus: le parcours 🟣\n",
    "\n",
    "Un dernier _challenge_ pour les amateurs de sensations fortes : créer la même application sur un site _web_ statique grâce au _web assembly_ (par exemple grâce à `Observable` et `Quarto`) !\n",
    "\n",
    "Pour avoir un site web statique, l'identification du code-barre devra être faite en dehors de l'application, par exemple par le moyen d'une API\n"
   ]
  }
 ],
 "metadata": {
  "kernelspec": {
   "display_name": "Python 3 (ipykernel)",
   "language": "python",
   "name": "python3"
  },
  "language_info": {
   "codemirror_mode": {
    "name": "ipython",
    "version": 3
   },
   "file_extension": ".py",
   "mimetype": "text/x-python",
   "name": "python",
   "nbconvert_exporter": "python",
   "pygments_lexer": "ipython3",
   "version": "3.10.9"
  }
 },
 "nbformat": 4,
 "nbformat_minor": 5
}
